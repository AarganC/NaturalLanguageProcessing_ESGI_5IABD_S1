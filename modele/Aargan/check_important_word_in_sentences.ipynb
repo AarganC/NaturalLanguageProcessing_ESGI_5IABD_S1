{
 "cells": [
  {
   "cell_type": "code",
   "execution_count": 20,
   "metadata": {},
   "outputs": [],
   "source": [
    "import re\n",
    "import nltk  \n",
    "import heapq\n",
    "import numpy as np  \n",
    "import pandas as pd\n",
    "\n",
    "from nltk.corpus import stopwords"
   ]
  },
  {
   "cell_type": "markdown",
   "metadata": {},
   "source": [
    "### Load Data"
   ]
  },
  {
   "cell_type": "code",
   "execution_count": 21,
   "metadata": {},
   "outputs": [],
   "source": [
    "f = open(\"../../files/cgu_figaro.txt\")\n",
    "text = f.read()"
   ]
  },
  {
   "cell_type": "markdown",
   "metadata": {},
   "source": [
    "### Retourne une liste de phrase présent dans le corpus"
   ]
  },
  {
   "cell_type": "code",
   "execution_count": 22,
   "metadata": {},
   "outputs": [
    {
     "data": {
      "text/plain": [
       "[\"Conditions Générales d'Utilisation\\n\\n \\n\\nSociété du Figaro, SAS au capital de 16.860.475 €, dont le siège est 14, bd Haussmann, 75009 PARIS, immatriculée au Registre du Commerce et des Sociétés de Paris sous le numéro 542 077 755 (ci-après « Le Figaro »), édite un site d'informations générales www.lefigaro.fr, ci-après le « Site » permettant un accès à différentes informations, ainsi qu'à différents services et produits complémentaires, détaillés ci-après.\",\n",
       " 'Les présentes conditions générales d\\'utilisation, (\"CGU\"), soumises au droit français, ont vocation à régir l\\'utilisation du Site ainsi que l\\'utilisation des différents services payants ou gratuits (ci-après le(s) « Service(s) »).',\n",
       " \"La navigation dans le Site et/ou l'inscription à un Service emporte de plein droit acceptation expresse et sans réserve des CGU par l'utilisateur du Site.\",\n",
       " \"En cas de non respect des termes des présentes CGU, Le Figaro se réserve le droit de prendre toute mesure de nature à préserver ses intérêts et notamment à en assurer l'exécution.\",\n",
       " \"Le Figaro pourra notamment à cette fin assigner l'utilisateur du Site en responsabilité civile et/ou pénale.\"]"
      ]
     },
     "execution_count": 22,
     "metadata": {},
     "output_type": "execute_result"
    }
   ],
   "source": [
    "corpus = nltk.sent_tokenize(text)\n",
    "corpus[:5]"
   ]
  },
  {
   "cell_type": "markdown",
   "metadata": {},
   "source": [
    "### Clean les phrase et mets en minuscule"
   ]
  },
  {
   "cell_type": "code",
   "execution_count": 23,
   "metadata": {},
   "outputs": [
    {
     "data": {
      "text/plain": [
       "['conditions générales d utilisation     société du figaro  sas au capital de               dont le siège est     bd haussmann        paris  immatriculée au registre du commerce et des sociétés de paris sous le numéro              ci après   le figaro     édite un site d informations générales www lefigaro fr  ci après le   site   permettant un accès à différentes informations  ainsi qu à différents services et produits complémentaires  détaillés ci après ',\n",
       " 'les présentes conditions générales d utilisation    cgu    soumises au droit français  ont vocation à régir l utilisation du site ainsi que l utilisation des différents services payants ou gratuits  ci après le s    service s     ',\n",
       " 'la navigation dans le site et ou l inscription à un service emporte de plein droit acceptation expresse et sans réserve des cgu par l utilisateur du site ',\n",
       " 'en cas de non respect des termes des présentes cgu  le figaro se réserve le droit de prendre toute mesure de nature à préserver ses intérêts et notamment à en assurer l exécution ',\n",
       " 'le figaro pourra notamment à cette fin assigner l utilisateur du site en responsabilité civile et ou pénale ']"
      ]
     },
     "execution_count": 23,
     "metadata": {},
     "output_type": "execute_result"
    }
   ],
   "source": [
    "clean_sentences = []\n",
    "clean_sentences = pd.Series(corpus).str.replace(\"[^a-zA-Zàâçéèêëîïôûùüÿñæœ]\" , \" \")\n",
    "clean_sentences = [sentence.lower() for sentence in clean_sentences]\n",
    "clean_sentences[:5]"
   ]
  },
  {
   "cell_type": "markdown",
   "metadata": {},
   "source": [
    "### Suppression des stops word"
   ]
  },
  {
   "cell_type": "code",
   "execution_count": 24,
   "metadata": {},
   "outputs": [
    {
     "data": {
      "text/plain": [
       "['conditions générales utilisation société figaro sas capital dont siège bd haussmann paris immatriculée registre commerce sociétés paris sous numéro ci après figaro édite site informations générales www lefigaro fr ci après site permettant accès différentes informations ainsi différents services produits complémentaires détaillés ci après',\n",
       " 'présentes conditions générales utilisation cgu soumises droit français vocation régir utilisation site ainsi utilisation différents services payants gratuits ci après service',\n",
       " 'navigation site inscription service emporte plein droit acceptation expresse sans réserve cgu utilisateur site',\n",
       " 'cas non respect termes présentes cgu figaro réserve droit prendre toute mesure nature préserver intérêts notamment assurer exécution',\n",
       " 'figaro pourra notamment cette fin assigner utilisateur site responsabilité civile pénale']"
      ]
     },
     "execution_count": 24,
     "metadata": {},
     "output_type": "execute_result"
    }
   ],
   "source": [
    "stop_words = stopwords.words('french')\n",
    "def remove_stopwords(sen):\n",
    "    sen_new = \" \".join([i for i in sen if i not in stop_words])\n",
    "    return sen_new\n",
    "\n",
    "clean_sentences = [remove_stopwords(r.split()) for r in clean_sentences]\n",
    "clean_sentences[:5]"
   ]
  },
  {
   "cell_type": "markdown",
   "metadata": {},
   "source": [
    "### Compte les occurences de chaques mots"
   ]
  },
  {
   "cell_type": "code",
   "execution_count": 25,
   "metadata": {},
   "outputs": [
    {
     "name": "stdout",
     "output_type": "stream",
     "text": [
      "1\n"
     ]
    }
   ],
   "source": [
    "wordfreq = {}\n",
    "for sentence in clean_sentences:\n",
    "    tokens = nltk.word_tokenize(sentence)\n",
    "    for token in tokens:\n",
    "        if token not in wordfreq.keys():\n",
    "            wordfreq[token] = 1\n",
    "        else:\n",
    "            wordfreq[token] += 1\n",
    "np.array(list(wordfreq.items()))[:10]\n",
    "#len(list(wordfreq.items()))\n",
    "print(wordfreq['condition'])"
   ]
  },
  {
   "cell_type": "markdown",
   "metadata": {},
   "source": [
    "### Récupération des 200 mots les plus importants"
   ]
  },
  {
   "cell_type": "code",
   "execution_count": 26,
   "metadata": {},
   "outputs": [
    {
     "data": {
      "text/plain": [
       "['figaro',\n",
       " 'site',\n",
       " 'utilisateur',\n",
       " 'informations',\n",
       " 'services',\n",
       " 'contenu',\n",
       " 'être',\n",
       " 'données',\n",
       " 'cas',\n",
       " 'toute']"
      ]
     },
     "execution_count": 26,
     "metadata": {},
     "output_type": "execute_result"
    }
   ],
   "source": [
    "most_freq = heapq.nlargest(200, wordfreq, wordfreq.get)\n",
    "most_freq[:10]"
   ]
  },
  {
   "cell_type": "code",
   "execution_count": 27,
   "metadata": {},
   "outputs": [
    {
     "name": "stdout",
     "output_type": "stream",
     "text": [
      "figaro 91\n",
      "site 80\n",
      "utilisateur 65\n",
      "informations 37\n",
      "services 35\n",
      "contenu 27\n",
      "être 22\n",
      "données 22\n",
      "cas 21\n",
      "toute 21\n",
      "tout 18\n",
      "article 17\n",
      "non 16\n",
      "notamment 16\n",
      "responsabilité 16\n",
      "contenus 16\n",
      "fr 13\n",
      "ci 12\n",
      "ainsi 12\n",
      "droit 12\n",
      "service 12\n",
      "conditions 11\n",
      "utilisation 11\n",
      "accès 11\n",
      "cgu 11\n",
      "inscription 11\n",
      "disposition 11\n",
      "autres 11\n",
      "peut 11\n",
      "mise 11\n",
      "compte 10\n",
      "adresse 10\n",
      "immobilier 10\n",
      "cadre 10\n",
      "vente 10\n",
      "générales 9\n",
      "lefigaro 9\n",
      "permettant 9\n",
      "partie 9\n",
      "titre 9\n",
      "ligne 9\n",
      "autre 9\n",
      "aucun 9\n",
      "partenaires 9\n",
      "aucune 9\n",
      "utilisateurs 9\n",
      "sous 8\n",
      "après 8\n",
      "présentes 8\n",
      "sans 8\n",
      "réserve 8\n",
      "respect 8\n",
      "accessible 8\n",
      "plus 8\n",
      "dispositions 8\n",
      "commentaires 8\n",
      "responsable 8\n",
      "lots 8\n",
      "personnelles 8\n",
      "sites 8\n",
      "proposés 7\n",
      "entre 7\n",
      "qualité 7\n",
      "toutes 7\n",
      "électronique 7\n",
      "leurs 7\n",
      "vendeur 7\n",
      "établissements 7\n",
      "dont 6\n",
      "différents 6\n",
      "cette 6\n",
      "fait 6\n",
      "textes 6\n",
      "liens 6\n",
      "charte 6\n",
      "http 6\n",
      "particulier 6\n",
      "mettre 6\n",
      "accepte 6\n",
      "droits 6\n",
      "propriété 6\n",
      "intellectuelle 6\n",
      "articles 6\n",
      "tiers 6\n",
      "ni 6\n",
      "saurait 6\n",
      "conséquence 6\n",
      "peuvent 6\n",
      "concernant 6\n",
      "suivante 6\n",
      "garantit 6\n",
      "commissaire 6\n",
      "priseur 6\n",
      "a 6\n",
      "crédit 6\n",
      "tenu 6\n",
      "payants 5\n",
      "désigne 5\n",
      "inscrit 5\n",
      "bases 5\n",
      "formulaire 5\n",
      "échéant 5\n",
      "plusieurs 5\n",
      "enchères 5\n",
      "consultation 5\n",
      "jour 5\n",
      "personnel 5\n",
      "interdit 5\n",
      "également 5\n",
      "quelque 5\n",
      "personnes 5\n",
      "usage 5\n",
      "forme 5\n",
      "moyen 5\n",
      "comme 5\n",
      "information 5\n",
      "vigueur 5\n",
      "met 5\n",
      "garde 5\n",
      "engage 5\n",
      "délit 5\n",
      "contributions 5\n",
      "produits 4\n",
      "gratuits 4\n",
      "espace 4\n",
      "mis 4\n",
      "bénéficier 4\n",
      "bourse 4\n",
      "appartient 4\n",
      "choix 4\n",
      "reconnaît 4\n",
      "utiliser 4\n",
      "code 4\n",
      "façon 4\n",
      "tous 4\n",
      "entière 4\n",
      "obligation 4\n",
      "conseils 4\n",
      "foi 4\n",
      "doit 4\n",
      "quelconque 4\n",
      "garantie 4\n",
      "sources 4\n",
      "susceptibles 4\n",
      "mineurs 4\n",
      "particulière 4\n",
      "santé 4\n",
      "url 4\n",
      "règles 4\n",
      "applicables 4\n",
      "communication 4\n",
      "concerne 4\n",
      "relatives 4\n",
      "vendeurs 4\n",
      "disponibilité 4\n",
      "si 4\n",
      "relation 4\n",
      "courtiers 4\n",
      "toutefois 4\n",
      "dits 4\n",
      "moment 4\n",
      "dispose 4\n",
      "lien 4\n",
      "paris 3\n",
      "sociétés 3\n",
      "www 3\n",
      "différentes 3\n",
      "termes 3\n",
      "prendre 3\n",
      "nature 3\n",
      "pourra 3\n",
      "fin 3\n",
      "images 3\n",
      "vidéos 3\n",
      "hypertextes 3\n",
      "marques 3\n",
      "inscrire 3\n",
      "concerné 3\n",
      "e 3\n",
      "présents 3\n",
      "préalable 3\n",
      "avoir 3\n",
      "spécifique 3\n",
      "disposer 3\n",
      "etc 3\n",
      "cependant 3\n",
      "nécessaires 3\n",
      "cet 3\n",
      "libre 3\n",
      "espaces 3\n",
      "action 3\n",
      "modifier 3\n",
      "diffuser 3\n",
      "constituent 3\n",
      "lors 3\n",
      "conservation 3\n",
      "compris 3\n",
      "loi 3\n",
      "titulaires 3\n",
      "commercial 3\n"
     ]
    }
   ],
   "source": [
    "for word in most_freq:\n",
    "    print(str(word) + \" \" + str(wordfreq[word]))"
   ]
  },
  {
   "cell_type": "code",
   "execution_count": null,
   "metadata": {},
   "outputs": [],
   "source": []
  }
 ],
 "metadata": {
  "kernelspec": {
   "display_name": "Python 3",
   "language": "python",
   "name": "python3"
  },
  "language_info": {
   "codemirror_mode": {
    "name": "ipython",
    "version": 3
   },
   "file_extension": ".py",
   "mimetype": "text/x-python",
   "name": "python",
   "nbconvert_exporter": "python",
   "pygments_lexer": "ipython3",
   "version": "3.7.6"
  }
 },
 "nbformat": 4,
 "nbformat_minor": 2
}
