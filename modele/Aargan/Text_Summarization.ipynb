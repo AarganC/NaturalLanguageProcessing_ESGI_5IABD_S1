{
 "cells": [
  {
   "cell_type": "code",
   "execution_count": 53,
   "metadata": {},
   "outputs": [],
   "source": [
    "import numpy as np\n",
    "import pandas as pd\n",
    "import nltk\n",
    "# nltk.download(\"punkt\")\n",
    "import re\n",
    "import networkx as nx\n",
    "\n",
    "from nltk.tokenize import sent_tokenize\n",
    "from nltk.corpus import stopwords\n",
    "from sklearn.metrics.pairwise import cosine_similarity"
   ]
  },
  {
   "cell_type": "code",
   "execution_count": 14,
   "metadata": {},
   "outputs": [
    {
     "data": {
      "text/html": [
       "<div>\n",
       "<style scoped>\n",
       "    .dataframe tbody tr th:only-of-type {\n",
       "        vertical-align: middle;\n",
       "    }\n",
       "\n",
       "    .dataframe tbody tr th {\n",
       "        vertical-align: top;\n",
       "    }\n",
       "\n",
       "    .dataframe thead th {\n",
       "        text-align: right;\n",
       "    }\n",
       "</style>\n",
       "<table border=\"1\" class=\"dataframe\">\n",
       "  <thead>\n",
       "    <tr style=\"text-align: right;\">\n",
       "      <th></th>\n",
       "      <th>id</th>\n",
       "      <th>text</th>\n",
       "      <th>source</th>\n",
       "    </tr>\n",
       "  </thead>\n",
       "  <tbody>\n",
       "    <tr>\n",
       "      <th>0</th>\n",
       "      <td>1</td>\n",
       "      <td>Conditions Générales d'Utilisation\\n\\n \\n\\nSoc...</td>\n",
       "      <td>http://mentions-legales.lefigaro.fr/page/cgu</td>\n",
       "    </tr>\n",
       "  </tbody>\n",
       "</table>\n",
       "</div>"
      ],
      "text/plain": [
       "   id                                               text  \\\n",
       "0   1  Conditions Générales d'Utilisation\\n\\n \\n\\nSoc...   \n",
       "\n",
       "                                         source  \n",
       "0  http://mentions-legales.lefigaro.fr/page/cgu  "
      ]
     },
     "execution_count": 14,
     "metadata": {},
     "output_type": "execute_result"
    }
   ],
   "source": [
    "df = pd.read_csv(\"../../files/cgu_figaro.csv\", sep=\"|\", header=None, names=[\"id\", \"text\", \"source\"])\n",
    "df.head()"
   ]
  },
  {
   "cell_type": "code",
   "execution_count": 16,
   "metadata": {},
   "outputs": [],
   "source": [
    "sentences = []\n",
    "for s in df[\"text\"]:\n",
    "    sentences.append(sent_tokenize(s))\n",
    "\n",
    "sentences = [y for x in sentences for y in x] # flatten list"
   ]
  },
  {
   "cell_type": "code",
   "execution_count": 17,
   "metadata": {},
   "outputs": [
    {
     "data": {
      "text/plain": [
       "[\"Conditions Générales d'Utilisation\\n\\n \\n\\nSociété du Figaro, SAS au capital de 16.860.475 €, dont le siège est 14, bd Haussmann, 75009 PARIS, immatriculée au Registre du Commerce et des Sociétés de Paris sous le numéro 542 077 755 (ci-après « Le Figaro »), édite un site d'informations générales www.lefigaro.fr, ci-après le « Site » permettant un accès à différentes informations, ainsi qu'à différents services et produits complémentaires, détaillés ci-après.\",\n",
       " 'Les présentes conditions générales d\\'utilisation, (\"CGU\"), soumises au droit français, ont vocation à régir l\\'utilisation du Site ainsi que l\\'utilisation des différents services payants ou gratuits (ci-après le(s) « Service(s) »).',\n",
       " \"La navigation dans le Site et/ou l'inscription à un Service emporte de plein droit acceptation expresse et sans réserve des CGU par l'utilisateur du Site.\",\n",
       " \"En cas de non respect des termes des présentes CGU, Le Figaro se réserve le droit de prendre toute mesure de nature à préserver ses intérêts et notamment à en assurer l'exécution.\",\n",
       " \"Le Figaro pourra notamment à cette fin assigner l'utilisateur du Site en responsabilité civile et/ou pénale.\"]"
      ]
     },
     "execution_count": 17,
     "metadata": {},
     "output_type": "execute_result"
    }
   ],
   "source": [
    "sentences[:5]"
   ]
  },
  {
   "cell_type": "code",
   "execution_count": 21,
   "metadata": {},
   "outputs": [
    {
     "data": {
      "text/plain": [
       "400000"
      ]
     },
     "execution_count": 21,
     "metadata": {},
     "output_type": "execute_result"
    }
   ],
   "source": [
    "word_embeddings = {}\n",
    "f = open('ressource/glove.6B.100d.txt', encoding='utf8')\n",
    "for line in f:\n",
    "    values = line.split()\n",
    "    word = values[0]\n",
    "    coefs = np.asarray(values[1:], dtype='float32')\n",
    "    word_embeddings[word] = coefs\n",
    "f.close()\n",
    "len(word_embeddings)"
   ]
  },
  {
   "cell_type": "code",
   "execution_count": 23,
   "metadata": {},
   "outputs": [
    {
     "data": {
      "text/plain": [
       "array([-0.038194, -0.24487 ,  0.72812 , -0.39961 ,  0.083172,  0.043953,\n",
       "       -0.39141 ,  0.3344  , -0.57545 ,  0.087459,  0.28787 , -0.06731 ,\n",
       "        0.30906 , -0.26384 , -0.13231 , -0.20757 ,  0.33395 , -0.33848 ,\n",
       "       -0.31743 , -0.48336 ,  0.1464  , -0.37304 ,  0.34577 ,  0.052041,\n",
       "        0.44946 , -0.46971 ,  0.02628 , -0.54155 , -0.15518 , -0.14107 ,\n",
       "       -0.039722,  0.28277 ,  0.14393 ,  0.23464 , -0.31021 ,  0.086173,\n",
       "        0.20397 ,  0.52624 ,  0.17164 , -0.082378, -0.71787 , -0.41531 ,\n",
       "        0.20335 , -0.12763 ,  0.41367 ,  0.55187 ,  0.57908 , -0.33477 ,\n",
       "       -0.36559 , -0.54857 , -0.062892,  0.26584 ,  0.30205 ,  0.99775 ,\n",
       "       -0.80481 , -3.0243  ,  0.01254 , -0.36942 ,  2.2167  ,  0.72201 ,\n",
       "       -0.24978 ,  0.92136 ,  0.034514,  0.46745 ,  1.1079  , -0.19358 ,\n",
       "       -0.074575,  0.23353 , -0.052062, -0.22044 ,  0.057162, -0.15806 ,\n",
       "       -0.30798 , -0.41625 ,  0.37972 ,  0.15006 , -0.53212 , -0.2055  ,\n",
       "       -1.2526  ,  0.071624,  0.70565 ,  0.49744 , -0.42063 ,  0.26148 ,\n",
       "       -1.538   , -0.30223 , -0.073438, -0.28312 ,  0.37104 , -0.25217 ,\n",
       "        0.016215, -0.017099, -0.38984 ,  0.87424 , -0.72569 , -0.51058 ,\n",
       "       -0.52028 , -0.1459  ,  0.8278  ,  0.27062 ], dtype=float32)"
      ]
     },
     "execution_count": 23,
     "metadata": {},
     "output_type": "execute_result"
    }
   ],
   "source": [
    "word_embeddings[list(word_embeddings)[0]]"
   ]
  },
  {
   "cell_type": "code",
   "execution_count": 29,
   "metadata": {},
   "outputs": [
    {
     "data": {
      "text/plain": [
       "['conditions générales d utilisation     société du figaro  sas au capital de               dont le siège est     bd haussmann        paris  immatriculée au registre du commerce et des sociétés de paris sous le numéro              ci après   le figaro     édite un site d informations générales www lefigaro fr  ci après le   site   permettant un accès à différentes informations  ainsi qu à différents services et produits complémentaires  détaillés ci après ',\n",
       " 'les présentes conditions générales d utilisation    cgu    soumises au droit français  ont vocation à régir l utilisation du site ainsi que l utilisation des différents services payants ou gratuits  ci après le s    service s     ',\n",
       " 'la navigation dans le site et ou l inscription à un service emporte de plein droit acceptation expresse et sans réserve des cgu par l utilisateur du site ',\n",
       " 'en cas de non respect des termes des présentes cgu  le figaro se réserve le droit de prendre toute mesure de nature à préserver ses intérêts et notamment à en assurer l exécution ',\n",
       " 'le figaro pourra notamment à cette fin assigner l utilisateur du site en responsabilité civile et ou pénale ']"
      ]
     },
     "execution_count": 29,
     "metadata": {},
     "output_type": "execute_result"
    }
   ],
   "source": [
    "clean_sentences = []\n",
    "clean_sentences = pd.Series(sentences).str.replace(\"[^a-zA-Zàéêèç]\" , \" \")\n",
    "clean_sentences = [sentence.lower() for sentence in clean_sentences]\n",
    "clean_sentences[:5]"
   ]
  },
  {
   "cell_type": "code",
   "execution_count": 34,
   "metadata": {},
   "outputs": [
    {
     "data": {
      "text/plain": [
       "['au', 'aux', 'avec', 'ce', 'ces']"
      ]
     },
     "execution_count": 34,
     "metadata": {},
     "output_type": "execute_result"
    }
   ],
   "source": [
    "stop_words = stopwords.words('french')\n",
    "type(stop_words)\n",
    "stop_words[:5]"
   ]
  },
  {
   "cell_type": "code",
   "execution_count": 35,
   "metadata": {},
   "outputs": [
    {
     "data": {
      "text/plain": [
       "['conditions générales utilisation société figaro sas capital dont siège bd haussmann paris immatriculée registre commerce sociétés paris sous numéro ci après figaro édite site informations générales www lefigaro fr ci après site permettant accès différentes informations ainsi différents services produits complémentaires détaillés ci après',\n",
       " 'présentes conditions générales utilisation cgu soumises droit français vocation régir utilisation site ainsi utilisation différents services payants gratuits ci après service',\n",
       " 'navigation site inscription service emporte plein droit acceptation expresse sans réserve cgu utilisateur site',\n",
       " 'cas non respect termes présentes cgu figaro réserve droit prendre toute mesure nature préserver intérêts notamment assurer exécution',\n",
       " 'figaro pourra notamment cette fin assigner utilisateur site responsabilité civile pénale']"
      ]
     },
     "execution_count": 35,
     "metadata": {},
     "output_type": "execute_result"
    }
   ],
   "source": [
    "def remove_stopwords(sen):\n",
    "    sen_new = \" \".join([i for i in sen if i not in stop_words])\n",
    "    return sen_new\n",
    "\n",
    "clean_sentences = [remove_stopwords(r.split()) for r in clean_sentences]\n",
    "clean_sentences[:5]"
   ]
  },
  {
   "cell_type": "code",
   "execution_count": 45,
   "metadata": {},
   "outputs": [
    {
     "data": {
      "text/plain": [
       "[array([-0.043921  , -0.15585803, -0.06155535,  0.12787385, -0.10662362,\n",
       "         0.0469764 ,  0.17377853,  0.24399895,  0.16045878,  0.00308373,\n",
       "         0.11150715,  0.04853465,  0.00824986, -0.07552316, -0.03351381,\n",
       "        -0.0236734 ,  0.09404748, -0.20686445, -0.10770278,  0.08203354,\n",
       "         0.05633522,  0.03490487, -0.25748604,  0.03927284,  0.0252534 ,\n",
       "        -0.19922536,  0.0673274 ,  0.00629042,  0.00092614, -0.11780562,\n",
       "        -0.2075894 , -0.19914777, -0.09256971, -0.02773196,  0.01562619,\n",
       "         0.20747097,  0.18080597,  0.00786068, -0.14068395, -0.01582064,\n",
       "         0.13102771, -0.01898534, -0.28176171, -0.06420881,  0.05535709,\n",
       "        -0.10612473, -0.30782937, -0.13849781,  0.0061038 ,  0.00425504,\n",
       "        -0.01695286,  0.24848781, -0.05175791,  0.01179037, -0.34548978,\n",
       "        -0.30691616,  0.21950321,  0.23483718,  0.0998589 ,  0.00550106,\n",
       "        -0.10996187, -0.13990714, -0.21502218, -0.11379474,  0.04040608,\n",
       "         0.08793994, -0.18039169, -0.18588398,  0.28143149,  0.01303894,\n",
       "        -0.01484991,  0.00344157,  0.04250931, -0.18480755,  0.0213969 ,\n",
       "        -0.22697998,  0.26469423,  0.18008706, -0.2243903 , -0.06171778,\n",
       "         0.11062468, -0.1294084 , -0.02349658,  0.06053995, -0.17463063,\n",
       "        -0.06949885, -0.01002402, -0.06403526,  0.02564677,  0.0052592 ,\n",
       "         0.04281438, -0.00812406,  0.27040408,  0.27826052,  0.13713672,\n",
       "         0.20914993, -0.01856472, -0.18139728, -0.04317074,  0.09859753])]"
      ]
     },
     "execution_count": 45,
     "metadata": {},
     "output_type": "execute_result"
    }
   ],
   "source": [
    "sentence_vectors = []\n",
    "for i in clean_sentences:\n",
    "    if len(i) != 0:\n",
    "        v = sum([word_embeddings.get(w, np.zeros((100,))) for w in i.split()])/(len(i.split()) + 0.001)\n",
    "    else:\n",
    "        v =np.zeros((100,))\n",
    "    sentence_vectors.append(v)\n",
    "sentence_vectors[:1]"
   ]
  },
  {
   "cell_type": "code",
   "execution_count": 52,
   "metadata": {},
   "outputs": [
    {
     "data": {
      "text/plain": [
       "0.6065083852529346"
      ]
     },
     "execution_count": 52,
     "metadata": {},
     "output_type": "execute_result"
    }
   ],
   "source": [
    "sim_mat = np.zeros([len(sentences), len(sentences)])\n",
    "for i in range(len(sentences)):\n",
    "    for j in range(len(sentences)):\n",
    "        if i != j:\n",
    "            sim_mat[i][j] = cosine_similarity(sentence_vectors[i].reshape(1,100), sentence_vectors[j].reshape(1, 100))[0,0]\n",
    "sim_mat[1, 2]"
   ]
  },
  {
   "cell_type": "code",
   "execution_count": 56,
   "metadata": {},
   "outputs": [
    {
     "data": {
      "text/plain": [
       "{0: 0.008451211884302591,\n",
       " 1: 0.007117768139346594,\n",
       " 2: 0.0072046569590507184,\n",
       " 3: 0.007624377623785239,\n",
       " 4: 0.007983388338201421,\n",
       " 5: 0.007232456639807979,\n",
       " 6: 0.006959648380572799,\n",
       " 7: 0.008709778176525452,\n",
       " 8: 0.006816780457300552,\n",
       " 9: 0.008145876495118757,\n",
       " 10: 0.007584994983858993,\n",
       " 11: 0.006033130973915544,\n",
       " 12: 0.00801067484837502,\n",
       " 13: 0.008180603217977834,\n",
       " 14: 0.00712842323265923,\n",
       " 15: 0.00691568466342301,\n",
       " 16: 0.007530660753356505,\n",
       " 17: 0.004029706227955555,\n",
       " 18: 0.007650105346906994,\n",
       " 19: 0.006436423293714076,\n",
       " 20: 0.007768614132240583,\n",
       " 21: 0.007480457585159912,\n",
       " 22: 0.007027205553795279,\n",
       " 23: 0.00540080642903481,\n",
       " 24: 0.008358806764460654,\n",
       " 25: 0.006493867963071031,\n",
       " 26: 0.00817359751832969,\n",
       " 27: 0.007215135374098565,\n",
       " 28: 0.0031257769226417167,\n",
       " 29: 0.006963109224982416,\n",
       " 30: 0.004670429168500729,\n",
       " 31: 0.006924009505735603,\n",
       " 32: 0.008254567107636982,\n",
       " 33: 0.005407174657294,\n",
       " 34: 0.007279529590009251,\n",
       " 35: 0.008095327759682682,\n",
       " 36: 0.007248830709840632,\n",
       " 37: 0.007664380338276659,\n",
       " 38: 0.00874356772744328,\n",
       " 39: 0.006741586916190333,\n",
       " 40: 0.005711095164894335,\n",
       " 41: 0.0037392867963030635,\n",
       " 42: 0.007174086055225539,\n",
       " 43: 0.005254764647553416,\n",
       " 44: 0.0072088271601022415,\n",
       " 45: 0.0073208994881794895,\n",
       " 46: 0.005670552414437881,\n",
       " 47: 0.0010323468685616358,\n",
       " 48: 0.00715806788276533,\n",
       " 49: 0.007507174973085744,\n",
       " 50: 0.006963035588481026,\n",
       " 51: 0.0034552243503342107,\n",
       " 52: 0.0077009513610479495,\n",
       " 53: 0.007384224076741824,\n",
       " 54: 0.008023906390774408,\n",
       " 55: 0.0010323468685616358,\n",
       " 56: 0.006051399470257882,\n",
       " 57: 0.008484033612695799,\n",
       " 58: 0.004959739393472691,\n",
       " 59: 0.0013554783918974449,\n",
       " 60: 0.007322007049789534,\n",
       " 61: 0.007091572264749547,\n",
       " 62: 0.005184515351884782,\n",
       " 63: 0.006168982151184702,\n",
       " 64: 0.006043695049035332,\n",
       " 65: 0.0072524458517163656,\n",
       " 66: 0.0075145574406872764,\n",
       " 67: 0.007755225212278368,\n",
       " 68: 0.007452032399413053,\n",
       " 69: 0.005906009467847219,\n",
       " 70: 0.005714251599172952,\n",
       " 71: 0.00780250323166203,\n",
       " 72: 0.007426617529702946,\n",
       " 73: 0.008094262656350435,\n",
       " 74: 0.007462915633556081,\n",
       " 75: 0.007289634105566994,\n",
       " 76: 0.006251814435012955,\n",
       " 77: 0.0062012444011638485,\n",
       " 78: 0.00828150518494131,\n",
       " 79: 0.006784831836702396,\n",
       " 80: 0.005200924983148865,\n",
       " 81: 0.00739053231813973,\n",
       " 82: 0.008373982494661885,\n",
       " 83: 0.008216626374529388,\n",
       " 84: 0.007565794890067692,\n",
       " 85: 0.008149926257168382,\n",
       " 86: 0.007350860497398182,\n",
       " 87: 0.0073596739641171435,\n",
       " 88: 0.007452523793438672,\n",
       " 89: 0.007786505420189776,\n",
       " 90: 0.008412613189567975,\n",
       " 91: 0.0058817095939250425,\n",
       " 92: 0.0016354480694880601,\n",
       " 93: 0.00852576085370038,\n",
       " 94: 0.006555049351473781,\n",
       " 95: 0.008806335959100926,\n",
       " 96: 0.007462274319960145,\n",
       " 97: 0.0075850806231004915,\n",
       " 98: 0.005943347116060021,\n",
       " 99: 0.007404143283344821,\n",
       " 100: 0.006989037535984833,\n",
       " 101: 0.008018844571424467,\n",
       " 102: 0.007335479831376056,\n",
       " 103: 0.007618648510528893,\n",
       " 104: 0.007343495057250725,\n",
       " 105: 0.0078078127397492505,\n",
       " 106: 0.006068042238149945,\n",
       " 107: 0.007015139128679979,\n",
       " 108: 0.006921094648701834,\n",
       " 109: 0.0068435151409885825,\n",
       " 110: 0.004900321686913584,\n",
       " 111: 0.008034384608883975,\n",
       " 112: 0.008244256695632168,\n",
       " 113: 0.005419735264884234,\n",
       " 114: 0.00636199286591413,\n",
       " 115: 0.005069931116327125,\n",
       " 116: 0.00697971561885547,\n",
       " 117: 0.004385026429860071,\n",
       " 118: 0.0072149745029882265,\n",
       " 119: 0.007834232742988497,\n",
       " 120: 0.007955729709056692,\n",
       " 121: 0.008258711556030711,\n",
       " 122: 0.005159239150422259,\n",
       " 123: 0.006961624990291527,\n",
       " 124: 0.007682582284857725,\n",
       " 125: 0.005093411609616636,\n",
       " 126: 0.0053158788644347005,\n",
       " 127: 0.0072743355502142715,\n",
       " 128: 0.006625084013472299,\n",
       " 129: 0.007585101048127466,\n",
       " 130: 0.0071537535621562075,\n",
       " 131: 0.007352290973655171,\n",
       " 132: 0.005189271292613661,\n",
       " 133: 0.007925929551271891,\n",
       " 134: 0.00744349959314028,\n",
       " 135: 0.007116794091360217,\n",
       " 136: 0.007203938485654125,\n",
       " 137: 0.005537698495053673,\n",
       " 138: 0.006765390109852157,\n",
       " 139: 0.007436598372984073,\n",
       " 140: 0.007790751276046659,\n",
       " 141: 0.006088568156650067,\n",
       " 142: 0.005158707154674082,\n",
       " 143: 0.0077232050153478145,\n",
       " 144: 0.006139106801784669,\n",
       " 145: 0.006509255721965104,\n",
       " 146: 0.007117552888230999}"
      ]
     },
     "execution_count": 56,
     "metadata": {},
     "output_type": "execute_result"
    }
   ],
   "source": [
    "nx_graph = nx.from_numpy_array(sim_mat)\n",
    "scores = nx.pagerank(nx_graph)\n",
    "scores"
   ]
  },
  {
   "cell_type": "code",
   "execution_count": 58,
   "metadata": {},
   "outputs": [],
   "source": [
    "resultat = \"\"\n",
    "ranked_sentences = sorted(((scores[i], s) for i, s in enumerate(sentences)), reverse=True)\n",
    "for i in range(10):\n",
    "    resultat += ranked_sentences[i][1]"
   ]
  },
  {
   "cell_type": "code",
   "execution_count": 59,
   "metadata": {},
   "outputs": [
    {
     "name": "stdout",
     "output_type": "stream",
     "text": [
      "Etant de fait soumis à une obligation de moyens, Le Figaro ne saurait être tenu responsable de tout dommage, quelle qu'en soit la nature, résultant d'une indisponibilité du Site ou d'un ou de plusieurs Services, ou résultant de la présence de virus dans le Site.De même, les informations que l'Utilisateur obtient dans le Site ou dans le cadre des Services proposés par Le Figaro, que ce soit dans le Site, par courrier électronique ou sous forme de message texte, ne donnent droit à aucune garantie du Figaro.Article 1 - Définitions\n",
      "\n",
      "Compte : désigne l'espace mis à la disposition de l'Utilisateur inscrit sur le Site, lui permettant d'accéder, après s'être identifié par ses Codes d'accès, aux Services souscrits, ainsi qu’à son contrat et factures éventuelles.L’Utilisateur peut demander à tout moment que ses données personnelles, collectées dans le cadre de l’utilisation du Service Figaro Immobilier, ne soient pas communiquées et dispose à cette fin d’un d'un droit d'accès, d’opposition et de rectification de ses données personnelles qu’il peut exercer en contactant Le Figaro à l’adresse suivante :\n",
      "\n",
      " FIGARO CLASSIFIEDS – Service IMMOBILIER - 14 bld Haussmann 75438 Paris cedex 09 Tél.L'Utilisateur reconnaît et accepte sans réserve être pleinement responsable de toute action entreprise faisant suite à la lecture d'un conseil, d'une opinion, d'un avis d'une cotation financière ou de toutes autres informations présentes dans le Site.Conditions Générales d'Utilisation\n",
      "\n",
      " \n",
      "\n",
      "Société du Figaro, SAS au capital de 16.860.475 €, dont le siège est 14, bd Haussmann, 75009 PARIS, immatriculée au Registre du Commerce et des Sociétés de Paris sous le numéro 542 077 755 (ci-après « Le Figaro »), édite un site d'informations générales www.lefigaro.fr, ci-après le « Site » permettant un accès à différentes informations, ainsi qu'à différents services et produits complémentaires, détaillés ci-après.Indépendamment de notre Politique de confidentialité, l’Utilisateur des Services Figaro Immobilier reconnait expressément que la collecte de données personnelles dans le cadre de ce service permet :\n",
      "\n",
      "    la transmission de ses demandes de renseignements aux partenaires sélectionnés par Le Figaro ;\n",
      "    et l'envoi des réponses et des informations aux dites demandes de renseignements, ainsi que l’envoi de sélection d’annonces, selon les critères indiqués par l’Utilisateur, en provenance du Site et/ou des partenaires du Site.4.5 Mise en garde particulière concernant le Service Figaro immobilier accessible à l’adresse url suivante : http://immobilier.lefigaro.fr\n",
      "\n",
      "Le Figaro met à disposition des Utilisateurs sur le Site un contenu d’informations immobilières ainsi qu’un certain nombre de Services visant à les accompagner dans le cadre de leur projet immobilier.Le Figaro et/ou ses partenaires sont les titulaires exclusifs de tous les droits de propriété intellectuelle attachés au nom, logo et marques  du Site, à sa structure et habillage, aux bases de données ainsi qu'au Contenu et ce, dans le monde entier.Si le Figaro fait de son mieux pour faciliter la communication par voie électronique ou autre entre les Utilisateurs et les Vendeurs, il n'accepte cependant aucune responsabilité en ce qui concerne la disponibilité ou l'efficacité desdits Services.\n"
     ]
    }
   ],
   "source": [
    "print(resultat)"
   ]
  },
  {
   "cell_type": "code",
   "execution_count": 61,
   "metadata": {},
   "outputs": [],
   "source": [
    "f = open(\"resultat/resultat_summarization.txt\", \"w\")\n",
    "f.write(resultat)\n",
    "f.close()"
   ]
  },
  {
   "cell_type": "code",
   "execution_count": null,
   "metadata": {},
   "outputs": [],
   "source": []
  }
 ],
 "metadata": {
  "kernelspec": {
   "display_name": "Python 3",
   "language": "python",
   "name": "python3"
  },
  "language_info": {
   "codemirror_mode": {
    "name": "ipython",
    "version": 3
   },
   "file_extension": ".py",
   "mimetype": "text/x-python",
   "name": "python",
   "nbconvert_exporter": "python",
   "pygments_lexer": "ipython3",
   "version": "3.7.6"
  }
 },
 "nbformat": 4,
 "nbformat_minor": 2
}
