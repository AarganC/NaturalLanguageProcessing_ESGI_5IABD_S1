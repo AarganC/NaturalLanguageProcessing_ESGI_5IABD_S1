{
 "cells": [
  {
   "cell_type": "code",
   "execution_count": 53,
   "metadata": {},
   "outputs": [],
   "source": [
    "import numpy as np\n",
    "import pandas as pd\n",
    "import nltk\n",
    "# nltk.download(\"punkt\")\n",
    "import re\n",
    "import networkx as nx\n",
    "\n",
    "from nltk.tokenize import sent_tokenize\n",
    "from nltk.corpus import stopwords\n",
    "from sklearn.metrics.pairwise import cosine_similarity"
   ]
  },
  {
   "cell_type": "code",
   "execution_count": 14,
   "metadata": {},
   "outputs": [
    {
     "data": {
      "text/html": [
       "<div>\n",
       "<style scoped>\n",
       "    .dataframe tbody tr th:only-of-type {\n",
       "        vertical-align: middle;\n",
       "    }\n",
       "\n",
       "    .dataframe tbody tr th {\n",
       "        vertical-align: top;\n",
       "    }\n",
       "\n",
       "    .dataframe thead th {\n",
       "        text-align: right;\n",
       "    }\n",
       "</style>\n",
       "<table border=\"1\" class=\"dataframe\">\n",
       "  <thead>\n",
       "    <tr style=\"text-align: right;\">\n",
       "      <th></th>\n",
       "      <th>id</th>\n",
       "      <th>text</th>\n",
       "      <th>source</th>\n",
       "    </tr>\n",
       "  </thead>\n",
       "  <tbody>\n",
       "    <tr>\n",
       "      <th>0</th>\n",
       "      <td>1</td>\n",
       "      <td>Conditions Générales d'Utilisation\\n\\n \\n\\nSoc...</td>\n",
       "      <td>http://mentions-legales.lefigaro.fr/page/cgu</td>\n",
       "    </tr>\n",
       "  </tbody>\n",
       "</table>\n",
       "</div>"
      ],
      "text/plain": [
       "   id                                               text  \\\n",
       "0   1  Conditions Générales d'Utilisation\\n\\n \\n\\nSoc...   \n",
       "\n",
       "                                         source  \n",
       "0  http://mentions-legales.lefigaro.fr/page/cgu  "
      ]
     },
     "execution_count": 14,
     "metadata": {},
     "output_type": "execute_result"
    }
   ],
   "source": [
    "df = pd.read_csv(\"../../files/cgu_figaro.csv\", sep=\"|\", header=None, names=[\"id\", \"text\", \"source\"])\n",
    "df.head()"
   ]
  },
  {
   "cell_type": "code",
   "execution_count": 16,
   "metadata": {},
   "outputs": [],
   "source": [
    "sentences = []\n",
    "for s in df[\"text\"]:\n",
    "    sentences.append(sent_tokenize(s))\n",
    "\n",
    "sentences = [y for x in sentences for y in x] # flatten list"
   ]
  },
  {
   "cell_type": "code",
   "execution_count": 17,
   "metadata": {},
   "outputs": [
    {
     "data": {
      "text/plain": [
       "[\"Conditions Générales d'Utilisation\\n\\n \\n\\nSociété du Figaro, SAS au capital de 16.860.475 €, dont le siège est 14, bd Haussmann, 75009 PARIS, immatriculée au Registre du Commerce et des Sociétés de Paris sous le numéro 542 077 755 (ci-après « Le Figaro »), édite un site d'informations générales www.lefigaro.fr, ci-après le « Site » permettant un accès à différentes informations, ainsi qu'à différents services et produits complémentaires, détaillés ci-après.\",\n",
       " 'Les présentes conditions générales d\\'utilisation, (\"CGU\"), soumises au droit français, ont vocation à régir l\\'utilisation du Site ainsi que l\\'utilisation des différents services payants ou gratuits (ci-après le(s) « Service(s) »).',\n",
       " \"La navigation dans le Site et/ou l'inscription à un Service emporte de plein droit acceptation expresse et sans réserve des CGU par l'utilisateur du Site.\",\n",
       " \"En cas de non respect des termes des présentes CGU, Le Figaro se réserve le droit de prendre toute mesure de nature à préserver ses intérêts et notamment à en assurer l'exécution.\",\n",
       " \"Le Figaro pourra notamment à cette fin assigner l'utilisateur du Site en responsabilité civile et/ou pénale.\"]"
      ]
     },
     "execution_count": 17,
     "metadata": {},
     "output_type": "execute_result"
    }
   ],
   "source": [
    "sentences[:5]"
   ]
  },
  {
   "cell_type": "code",
   "execution_count": 21,
   "metadata": {},
   "outputs": [
    {
     "data": {
      "text/plain": [
       "400000"
      ]
     },
     "execution_count": 21,
     "metadata": {},
     "output_type": "execute_result"
    }
   ],
   "source": [
    "word_embeddings = {}\n",
    "f = open('ressources/glove.6B.100d.txt', encoding='utf8')\n",
    "for line in f:\n",
    "    values = line.split()\n",
    "    word = values[0]\n",
    "    coefs = np.asarray(values[1:], dtype='float32')\n",
    "    word_embeddings[word] = coefs\n",
    "f.close()\n",
    "len(word_embeddings)"
   ]
  },
  {
   "cell_type": "code",
   "execution_count": 23,
   "metadata": {},
   "outputs": [
    {
     "data": {
      "text/plain": [
       "array([-0.038194, -0.24487 ,  0.72812 , -0.39961 ,  0.083172,  0.043953,\n",
       "       -0.39141 ,  0.3344  , -0.57545 ,  0.087459,  0.28787 , -0.06731 ,\n",
       "        0.30906 , -0.26384 , -0.13231 , -0.20757 ,  0.33395 , -0.33848 ,\n",
       "       -0.31743 , -0.48336 ,  0.1464  , -0.37304 ,  0.34577 ,  0.052041,\n",
       "        0.44946 , -0.46971 ,  0.02628 , -0.54155 , -0.15518 , -0.14107 ,\n",
       "       -0.039722,  0.28277 ,  0.14393 ,  0.23464 , -0.31021 ,  0.086173,\n",
       "        0.20397 ,  0.52624 ,  0.17164 , -0.082378, -0.71787 , -0.41531 ,\n",
       "        0.20335 , -0.12763 ,  0.41367 ,  0.55187 ,  0.57908 , -0.33477 ,\n",
       "       -0.36559 , -0.54857 , -0.062892,  0.26584 ,  0.30205 ,  0.99775 ,\n",
       "       -0.80481 , -3.0243  ,  0.01254 , -0.36942 ,  2.2167  ,  0.72201 ,\n",
       "       -0.24978 ,  0.92136 ,  0.034514,  0.46745 ,  1.1079  , -0.19358 ,\n",
       "       -0.074575,  0.23353 , -0.052062, -0.22044 ,  0.057162, -0.15806 ,\n",
       "       -0.30798 , -0.41625 ,  0.37972 ,  0.15006 , -0.53212 , -0.2055  ,\n",
       "       -1.2526  ,  0.071624,  0.70565 ,  0.49744 , -0.42063 ,  0.26148 ,\n",
       "       -1.538   , -0.30223 , -0.073438, -0.28312 ,  0.37104 , -0.25217 ,\n",
       "        0.016215, -0.017099, -0.38984 ,  0.87424 , -0.72569 , -0.51058 ,\n",
       "       -0.52028 , -0.1459  ,  0.8278  ,  0.27062 ], dtype=float32)"
      ]
     },
     "execution_count": 23,
     "metadata": {},
     "output_type": "execute_result"
    }
   ],
   "source": [
    "word_embeddings[list(word_embeddings)[0]]"
   ]
  },
  {
   "cell_type": "code",
   "execution_count": 29,
   "metadata": {},
   "outputs": [
    {
     "data": {
      "text/plain": [
       "['conditions générales d utilisation     société du figaro  sas au capital de               dont le siège est     bd haussmann        paris  immatriculée au registre du commerce et des sociétés de paris sous le numéro              ci après   le figaro     édite un site d informations générales www lefigaro fr  ci après le   site   permettant un accès à différentes informations  ainsi qu à différents services et produits complémentaires  détaillés ci après ',\n",
       " 'les présentes conditions générales d utilisation    cgu    soumises au droit français  ont vocation à régir l utilisation du site ainsi que l utilisation des différents services payants ou gratuits  ci après le s    service s     ',\n",
       " 'la navigation dans le site et ou l inscription à un service emporte de plein droit acceptation expresse et sans réserve des cgu par l utilisateur du site ',\n",
       " 'en cas de non respect des termes des présentes cgu  le figaro se réserve le droit de prendre toute mesure de nature à préserver ses intérêts et notamment à en assurer l exécution ',\n",
       " 'le figaro pourra notamment à cette fin assigner l utilisateur du site en responsabilité civile et ou pénale ']"
      ]
     },
     "execution_count": 29,
     "metadata": {},
     "output_type": "execute_result"
    }
   ],
   "source": [
    "clean_sentences = []\n",
    "clean_sentences = pd.Series(sentences).str.replace(\"[^a-zA-Zàéêèç]\" , \" \")\n",
    "clean_sentences = [sentence.lower() for sentence in clean_sentences]\n",
    "clean_sentences[:5]"
   ]
  },
  {
   "cell_type": "code",
   "execution_count": 34,
   "metadata": {},
   "outputs": [
    {
     "data": {
      "text/plain": [
       "['au', 'aux', 'avec', 'ce', 'ces']"
      ]
     },
     "execution_count": 34,
     "metadata": {},
     "output_type": "execute_result"
    }
   ],
   "source": [
    "stop_words = stopwords.words('french')\n",
    "type(stop_words)\n",
    "stop_words[:5]"
   ]
  },
  {
   "cell_type": "code",
   "execution_count": 35,
   "metadata": {},
   "outputs": [
    {
     "data": {
      "text/plain": [
       "['conditions générales utilisation société figaro sas capital dont siège bd haussmann paris immatriculée registre commerce sociétés paris sous numéro ci après figaro édite site informations générales www lefigaro fr ci après site permettant accès différentes informations ainsi différents services produits complémentaires détaillés ci après',\n",
       " 'présentes conditions générales utilisation cgu soumises droit français vocation régir utilisation site ainsi utilisation différents services payants gratuits ci après service',\n",
       " 'navigation site inscription service emporte plein droit acceptation expresse sans réserve cgu utilisateur site',\n",
       " 'cas non respect termes présentes cgu figaro réserve droit prendre toute mesure nature préserver intérêts notamment assurer exécution',\n",
       " 'figaro pourra notamment cette fin assigner utilisateur site responsabilité civile pénale']"
      ]
     },
     "execution_count": 35,
     "metadata": {},
     "output_type": "execute_result"
    }
   ],
   "source": [
    "def remove_stopwords(sen):\n",
    "    sen_new = \" \".join([i for i in sen if i not in stop_words])\n",
    "    return sen_new\n",
    "\n",
    "clean_sentences = [remove_stopwords(r.split()) for r in clean_sentences]\n",
    "clean_sentences[:5]"
   ]
  },
  {
   "cell_type": "code",
   "execution_count": 45,
   "metadata": {},
   "outputs": [
    {
     "data": {
      "text/plain": [
       "[array([-0.043921  , -0.15585803, -0.06155535,  0.12787385, -0.10662362,\n",
       "         0.0469764 ,  0.17377853,  0.24399895,  0.16045878,  0.00308373,\n",
       "         0.11150715,  0.04853465,  0.00824986, -0.07552316, -0.03351381,\n",
       "        -0.0236734 ,  0.09404748, -0.20686445, -0.10770278,  0.08203354,\n",
       "         0.05633522,  0.03490487, -0.25748604,  0.03927284,  0.0252534 ,\n",
       "        -0.19922536,  0.0673274 ,  0.00629042,  0.00092614, -0.11780562,\n",
       "        -0.2075894 , -0.19914777, -0.09256971, -0.02773196,  0.01562619,\n",
       "         0.20747097,  0.18080597,  0.00786068, -0.14068395, -0.01582064,\n",
       "         0.13102771, -0.01898534, -0.28176171, -0.06420881,  0.05535709,\n",
       "        -0.10612473, -0.30782937, -0.13849781,  0.0061038 ,  0.00425504,\n",
       "        -0.01695286,  0.24848781, -0.05175791,  0.01179037, -0.34548978,\n",
       "        -0.30691616,  0.21950321,  0.23483718,  0.0998589 ,  0.00550106,\n",
       "        -0.10996187, -0.13990714, -0.21502218, -0.11379474,  0.04040608,\n",
       "         0.08793994, -0.18039169, -0.18588398,  0.28143149,  0.01303894,\n",
       "        -0.01484991,  0.00344157,  0.04250931, -0.18480755,  0.0213969 ,\n",
       "        -0.22697998,  0.26469423,  0.18008706, -0.2243903 , -0.06171778,\n",
       "         0.11062468, -0.1294084 , -0.02349658,  0.06053995, -0.17463063,\n",
       "        -0.06949885, -0.01002402, -0.06403526,  0.02564677,  0.0052592 ,\n",
       "         0.04281438, -0.00812406,  0.27040408,  0.27826052,  0.13713672,\n",
       "         0.20914993, -0.01856472, -0.18139728, -0.04317074,  0.09859753])]"
      ]
     },
     "execution_count": 45,
     "metadata": {},
     "output_type": "execute_result"
    }
   ],
   "source": [
    "sentence_vectors = []\n",
    "for i in clean_sentences:\n",
    "    if len(i) != 0:\n",
    "        v = sum([word_embeddings.get(w, np.zeros((100,))) for w in i.split()])/(len(i.split()) + 0.001)\n",
    "    else:\n",
    "        v =np.zeros((100,))\n",
    "    sentence_vectors.append(v)\n",
    "sentence_vectors[:1]"
   ]
  },
  {
   "cell_type": "code",
   "execution_count": 52,
   "metadata": {},
   "outputs": [
    {
     "data": {
      "text/plain": [
       "0.6065083852529346"
      ]
     },
     "execution_count": 52,
     "metadata": {},
     "output_type": "execute_result"
    }
   ],
   "source": [
    "sim_mat = np.zeros([len(sentences), len(sentences)])\n",
    "for i in range(len(sentences)):\n",
    "    for j in range(len(sentences)):\n",
    "        if i != j:\n",
    "            sim_mat[i][j] = cosine_similarity(sentence_vectors[i].reshape(1,100), sentence_vectors[j].reshape(1, 100))[0,0]\n",
    "sim_mat[1, 2]"
   ]
  },
  {
   "cell_type": "code",
   "execution_count": 56,
   "metadata": {},
   "outputs": [
    {
     "data": {
      "text/plain": [
       "{0: 0.008451211884302591,\n",
       " 1: 0.007117768139346594,\n",
       " 2: 0.0072046569590507184,\n",
       " 3: 0.007624377623785239,\n",
       " 4: 0.007983388338201421,\n",
       " 5: 0.007232456639807979,\n",
       " 6: 0.006959648380572799,\n",
       " 7: 0.008709778176525452,\n",
       " 8: 0.006816780457300552,\n",
       " 9: 0.008145876495118757,\n",
       " 10: 0.007584994983858993,\n",
       " 11: 0.006033130973915544,\n",
       " 12: 0.00801067484837502,\n",
       " 13: 0.008180603217977834,\n",
       " 14: 0.00712842323265923,\n",
       " 15: 0.00691568466342301,\n",
       " 16: 0.007530660753356505,\n",
       " 17: 0.004029706227955555,\n",
       " 18: 0.007650105346906994,\n",
       " 19: 0.006436423293714076,\n",
       " 20: 0.007768614132240583,\n",
       " 21: 0.007480457585159912,\n",
       " 22: 0.007027205553795279,\n",
       " 23: 0.00540080642903481,\n",
       " 24: 0.008358806764460654,\n",
       " 25: 0.006493867963071031,\n",
       " 26: 0.00817359751832969,\n",
       " 27: 0.007215135374098565,\n",
       " 28: 0.0031257769226417167,\n",
       " 29: 0.006963109224982416,\n",
       " 30: 0.004670429168500729,\n",
       " 31: 0.006924009505735603,\n",
       " 32: 0.008254567107636982,\n",
       " 33: 0.005407174657294,\n",
       " 34: 0.007279529590009251,\n",
       " 35: 0.008095327759682682,\n",
       " 36: 0.007248830709840632,\n",
       " 37: 0.007664380338276659,\n",
       " 38: 0.00874356772744328,\n",
       " 39: 0.006741586916190333,\n",
       " 40: 0.005711095164894335,\n",
       " 41: 0.0037392867963030635,\n",
       " 42: 0.007174086055225539,\n",
       " 43: 0.005254764647553416,\n",
       " 44: 0.0072088271601022415,\n",
       " 45: 0.0073208994881794895,\n",
       " 46: 0.005670552414437881,\n",
       " 47: 0.0010323468685616358,\n",
       " 48: 0.00715806788276533,\n",
       " 49: 0.007507174973085744,\n",
       " 50: 0.006963035588481026,\n",
       " 51: 0.0034552243503342107,\n",
       " 52: 0.0077009513610479495,\n",
       " 53: 0.007384224076741824,\n",
       " 54: 0.008023906390774408,\n",
       " 55: 0.0010323468685616358,\n",
       " 56: 0.006051399470257882,\n",
       " 57: 0.008484033612695799,\n",
       " 58: 0.004959739393472691,\n",
       " 59: 0.0013554783918974449,\n",
       " 60: 0.007322007049789534,\n",
       " 61: 0.007091572264749547,\n",
       " 62: 0.005184515351884782,\n",
       " 63: 0.006168982151184702,\n",
       " 64: 0.006043695049035332,\n",
       " 65: 0.0072524458517163656,\n",
       " 66: 0.0075145574406872764,\n",
       " 67: 0.007755225212278368,\n",
       " 68: 0.007452032399413053,\n",
       " 69: 0.005906009467847219,\n",
       " 70: 0.005714251599172952,\n",
       " 71: 0.00780250323166203,\n",
       " 72: 0.007426617529702946,\n",
       " 73: 0.008094262656350435,\n",
       " 74: 0.007462915633556081,\n",
       " 75: 0.007289634105566994,\n",
       " 76: 0.006251814435012955,\n",
       " 77: 0.0062012444011638485,\n",
       " 78: 0.00828150518494131,\n",
       " 79: 0.006784831836702396,\n",
       " 80: 0.005200924983148865,\n",
       " 81: 0.00739053231813973,\n",
       " 82: 0.008373982494661885,\n",
       " 83: 0.008216626374529388,\n",
       " 84: 0.007565794890067692,\n",
       " 85: 0.008149926257168382,\n",
       " 86: 0.007350860497398182,\n",
       " 87: 0.0073596739641171435,\n",
       " 88: 0.007452523793438672,\n",
       " 89: 0.007786505420189776,\n",
       " 90: 0.008412613189567975,\n",
       " 91: 0.0058817095939250425,\n",
       " 92: 0.0016354480694880601,\n",
       " 93: 0.00852576085370038,\n",
       " 94: 0.006555049351473781,\n",
       " 95: 0.008806335959100926,\n",
       " 96: 0.007462274319960145,\n",
       " 97: 0.0075850806231004915,\n",
       " 98: 0.005943347116060021,\n",
       " 99: 0.007404143283344821,\n",
       " 100: 0.006989037535984833,\n",
       " 101: 0.008018844571424467,\n",
       " 102: 0.007335479831376056,\n",
       " 103: 0.007618648510528893,\n",
       " 104: 0.007343495057250725,\n",
       " 105: 0.0078078127397492505,\n",
       " 106: 0.006068042238149945,\n",
       " 107: 0.007015139128679979,\n",
       " 108: 0.006921094648701834,\n",
       " 109: 0.0068435151409885825,\n",
       " 110: 0.004900321686913584,\n",
       " 111: 0.008034384608883975,\n",
       " 112: 0.008244256695632168,\n",
       " 113: 0.005419735264884234,\n",
       " 114: 0.00636199286591413,\n",
       " 115: 0.005069931116327125,\n",
       " 116: 0.00697971561885547,\n",
       " 117: 0.004385026429860071,\n",
       " 118: 0.0072149745029882265,\n",
       " 119: 0.007834232742988497,\n",
       " 120: 0.007955729709056692,\n",
       " 121: 0.008258711556030711,\n",
       " 122: 0.005159239150422259,\n",
       " 123: 0.006961624990291527,\n",
       " 124: 0.007682582284857725,\n",
       " 125: 0.005093411609616636,\n",
       " 126: 0.0053158788644347005,\n",
       " 127: 0.0072743355502142715,\n",
       " 128: 0.006625084013472299,\n",
       " 129: 0.007585101048127466,\n",
       " 130: 0.0071537535621562075,\n",
       " 131: 0.007352290973655171,\n",
       " 132: 0.005189271292613661,\n",
       " 133: 0.007925929551271891,\n",
       " 134: 0.00744349959314028,\n",
       " 135: 0.007116794091360217,\n",
       " 136: 0.007203938485654125,\n",
       " 137: 0.005537698495053673,\n",
       " 138: 0.006765390109852157,\n",
       " 139: 0.007436598372984073,\n",
       " 140: 0.007790751276046659,\n",
       " 141: 0.006088568156650067,\n",
       " 142: 0.005158707154674082,\n",
       " 143: 0.0077232050153478145,\n",
       " 144: 0.006139106801784669,\n",
       " 145: 0.006509255721965104,\n",
       " 146: 0.007117552888230999}"
      ]
     },
     "execution_count": 56,
     "metadata": {},
     "output_type": "execute_result"
    }
   ],
   "source": [
    "nx_graph = nx.from_numpy_array(sim_mat)\n",
    "scores = nx.pagerank(nx_graph)\n",
    "scores"
   ]
  },
  {
   "cell_type": "code",
   "execution_count": 58,
   "metadata": {},
   "outputs": [],
   "source": [
    "resultat = \"\"\n",
    "ranked_sentences = sorted(((scores[i], s) for i, s in enumerate(sentences)), reverse=True)\n",
    "for i in range(10):\n",
    "    resultat += ranked_sentences[i][1]"
   ]
  },
  {
   "cell_type": "code",
   "execution_count": 59,
   "metadata": {},
   "outputs": [
    {
     "name": "stdout",
     "output_type": "stream",
     "text": [
      "Etant de fait soumis à une obligation de moyens, Le Figaro ne saurait être tenu responsable de tout dommage, quelle qu'en soit la nature, résultant d'une indisponibilité du Site ou d'un ou de plusieurs Services, ou résultant de la présence de virus dans le Site.De même, les informations que l'Utilisateur obtient dans le Site ou dans le cadre des Services proposés par Le Figaro, que ce soit dans le Site, par courrier électronique ou sous forme de message texte, ne donnent droit à aucune garantie du Figaro.Article 1 - Définitions\n",
      "\n",
      "Compte : désigne l'espace mis à la disposition de l'Utilisateur inscrit sur le Site, lui permettant d'accéder, après s'être identifié par ses Codes d'accès, aux Services souscrits, ainsi qu’à son contrat et factures éventuelles.L’Utilisateur peut demander à tout moment que ses données personnelles, collectées dans le cadre de l’utilisation du Service Figaro Immobilier, ne soient pas communiquées et dispose à cette fin d’un d'un droit d'accès, d’opposition et de rectification de ses données personnelles qu’il peut exercer en contactant Le Figaro à l’adresse suivante :\n",
      "\n",
      " FIGARO CLASSIFIEDS – Service IMMOBILIER - 14 bld Haussmann 75438 Paris cedex 09 Tél.L'Utilisateur reconnaît et accepte sans réserve être pleinement responsable de toute action entreprise faisant suite à la lecture d'un conseil, d'une opinion, d'un avis d'une cotation financière ou de toutes autres informations présentes dans le Site.Conditions Générales d'Utilisation\n",
      "\n",
      " \n",
      "\n",
      "Société du Figaro, SAS au capital de 16.860.475 €, dont le siège est 14, bd Haussmann, 75009 PARIS, immatriculée au Registre du Commerce et des Sociétés de Paris sous le numéro 542 077 755 (ci-après « Le Figaro »), édite un site d'informations générales www.lefigaro.fr, ci-après le « Site » permettant un accès à différentes informations, ainsi qu'à différents services et produits complémentaires, détaillés ci-après.Indépendamment de notre Politique de confidentialité, l’Utilisateur des Services Figaro Immobilier reconnait expressément que la collecte de données personnelles dans le cadre de ce service permet :\n",
      "\n",
      "    la transmission de ses demandes de renseignements aux partenaires sélectionnés par Le Figaro ;\n",
      "    et l'envoi des réponses et des informations aux dites demandes de renseignements, ainsi que l’envoi de sélection d’annonces, selon les critères indiqués par l’Utilisateur, en provenance du Site et/ou des partenaires du Site.4.5 Mise en garde particulière concernant le Service Figaro immobilier accessible à l’adresse url suivante : http://immobilier.lefigaro.fr\n",
      "\n",
      "Le Figaro met à disposition des Utilisateurs sur le Site un contenu d’informations immobilières ainsi qu’un certain nombre de Services visant à les accompagner dans le cadre de leur projet immobilier.Le Figaro et/ou ses partenaires sont les titulaires exclusifs de tous les droits de propriété intellectuelle attachés au nom, logo et marques  du Site, à sa structure et habillage, aux bases de données ainsi qu'au Contenu et ce, dans le monde entier.Si le Figaro fait de son mieux pour faciliter la communication par voie électronique ou autre entre les Utilisateurs et les Vendeurs, il n'accepte cependant aucune responsabilité en ce qui concerne la disponibilité ou l'efficacité desdits Services.\n"
     ]
    }
   ],
   "source": [
    "print(resultat)"
   ]
  },
  {
   "cell_type": "code",
   "execution_count": 61,
   "metadata": {},
   "outputs": [],
   "source": [
    "f = open(\"resultat/resultat_summarization.txt\", \"w\")\n",
    "f.write(resultat)\n",
    "f.close()"
   ]
  },
  {
   "cell_type": "code",
   "execution_count": 62,
   "metadata": {},
   "outputs": [
    {
     "name": "stdout",
     "output_type": "stream",
     "text": [
      "[(0.008806335959100926, \"Etant de fait soumis à une obligation de moyens, Le Figaro ne saurait être tenu responsable de tout dommage, quelle qu'en soit la nature, résultant d'une indisponibilité du Site ou d'un ou de plusieurs Services, ou résultant de la présence de virus dans le Site.\"), (0.00874356772744328, \"De même, les informations que l'Utilisateur obtient dans le Site ou dans le cadre des Services proposés par Le Figaro, que ce soit dans le Site, par courrier électronique ou sous forme de message texte, ne donnent droit à aucune garantie du Figaro.\"), (0.008709778176525452, \"Article 1 - Définitions\\n\\nCompte : désigne l'espace mis à la disposition de l'Utilisateur inscrit sur le Site, lui permettant d'accéder, après s'être identifié par ses Codes d'accès, aux Services souscrits, ainsi qu’à son contrat et factures éventuelles.\"), (0.00852576085370038, \"L’Utilisateur peut demander à tout moment que ses données personnelles, collectées dans le cadre de l’utilisation du Service Figaro Immobilier, ne soient pas communiquées et dispose à cette fin d’un d'un droit d'accès, d’opposition et de rectification de ses données personnelles qu’il peut exercer en contactant Le Figaro à l’adresse suivante :\\n\\n FIGARO CLASSIFIEDS – Service IMMOBILIER - 14 bld Haussmann 75438 Paris cedex 09 Tél.\"), (0.008484033612695799, \"L'Utilisateur reconnaît et accepte sans réserve être pleinement responsable de toute action entreprise faisant suite à la lecture d'un conseil, d'une opinion, d'un avis d'une cotation financière ou de toutes autres informations présentes dans le Site.\"), (0.008451211884302591, \"Conditions Générales d'Utilisation\\n\\n \\n\\nSociété du Figaro, SAS au capital de 16.860.475 €, dont le siège est 14, bd Haussmann, 75009 PARIS, immatriculée au Registre du Commerce et des Sociétés de Paris sous le numéro 542 077 755 (ci-après « Le Figaro »), édite un site d'informations générales www.lefigaro.fr, ci-après le « Site » permettant un accès à différentes informations, ainsi qu'à différents services et produits complémentaires, détaillés ci-après.\"), (0.008412613189567975, \"Indépendamment de notre Politique de confidentialité, l’Utilisateur des Services Figaro Immobilier reconnait expressément que la collecte de données personnelles dans le cadre de ce service permet :\\n\\n    la transmission de ses demandes de renseignements aux partenaires sélectionnés par Le Figaro ;\\n    et l'envoi des réponses et des informations aux dites demandes de renseignements, ainsi que l’envoi de sélection d’annonces, selon les critères indiqués par l’Utilisateur, en provenance du Site et/ou des partenaires du Site.\"), (0.008373982494661885, '4.5 Mise en garde particulière concernant le Service Figaro immobilier accessible à l’adresse url suivante : http://immobilier.lefigaro.fr\\n\\nLe Figaro met à disposition des Utilisateurs sur le Site un contenu d’informations immobilières ainsi qu’un certain nombre de Services visant à les accompagner dans le cadre de leur projet immobilier.'), (0.008358806764460654, \"Le Figaro et/ou ses partenaires sont les titulaires exclusifs de tous les droits de propriété intellectuelle attachés au nom, logo et marques  du Site, à sa structure et habillage, aux bases de données ainsi qu'au Contenu et ce, dans le monde entier.\"), (0.00828150518494131, \"Si le Figaro fait de son mieux pour faciliter la communication par voie électronique ou autre entre les Utilisateurs et les Vendeurs, il n'accepte cependant aucune responsabilité en ce qui concerne la disponibilité ou l'efficacité desdits Services.\"), (0.008258711556030711, \"Article 8 - Contributions de l'Utilisateur\\n\\nL'Utilisateur, en déposant sa contribution (qui peut le cas échéant prendre la forme d’une petite annonce), accepte sans contrepartie que celle-ci soit reproduite en tout ou partie, selon des règles d'indexation et de mise en forme qui sont du seul ressort du Figaro.. Toutefois, Le Figaro n'est pas responsable du contenu des contributions en général, en ce inclus les contributions de l'Utilisateur.\"), (0.008254567107636982, 'Le Figaro ne peut garantir en aucun cas que le Site ainsi que ses Services ne subiront aucune interruption.'), (0.008244256695632168, 'L’internaute s’engage à immédiatement informer Le Figaro de toute utilisation non autorisée de son compte et de toute atteinte à la confidentialité et à la sécurité de ses moyens d’identification en s’adressant à : monfigaro.animation@lefigaro.fr.'), (0.008216626374529388, 'Les Utilisateurs reconnaissent expressément que Le Figaro apporte tous les soins à la constitution et à la mise à jour du Site et en particulier à celles des annonces immobilières.'), (0.008180603217977834, \"Les Services regroupent notamment les services suivants :\\n\\n    des Services gratuits offrant notamment un espace communautaire du Figaro.fr, permettant à ses membres de contribuer au Figaro.fr, de disposer d'un espace personnel, et d'interagir avec les autres membres (Mon Figaro Connect), ou d'accéder à un contenu spécifique et particulier et/ou condensé de l'actualité boursière et financière du jour etc… ;\\n    des Services gratuits sur inscription elle-même gratuite (telle que notamment l'Offre Mon Figaro Bourse gratuit, Mon Figaro, plus amplement détaillées dans les rubriques concernées du Site) ;\\n    des Services payants proposant entre autre un accès aux versions PDF du quotidien et des magazines, des contenus réservés et/ou exclusifs et autres avantages, ces services étant plus amplement détaillées dans les rubriques concernées du Site.\"), (0.00817359751832969, 'Société du Figaro consent à l’Utilisateur du Site un droit d’usage privé, non collectif et non exclusif sur son contenu.. Ce droit est limité au droit d’imprimer un ou plusieurs articles et/ou de l’enregistrer sur son ordinateur (ou autre support digital tel que mobile et tablette) pour son usage personnel exclusivement (y compris dans le cadre d’un abonnement pour les contenus payants).'), (0.008149926257168382, 'Le Figaro fait ses meilleurs efforts pour mettre en relation les Utilisateurs et ses partenaires immobiliers ainsi que les établissements de crédits (et courtiers) proposant leurs services par l’intermédiaire du Site.'), (0.008145876495118757, \"Formulaire: désigne le formulaire d’inscription permettant à l'Utilisateur de s'inscrire pour bénéficier de tout ou partie des Services gratuits du Figaro et, le cas échéant, de souscrire à un ou plusieurs Service(s) payant(s).\"), (0.008095327759682682, 'Le Figaro décline toute responsabilité quant à la foi placée par tout Utilisateur du Site dans ces données et informations, ou par toute personne pouvant être informée de ce Contenu.'), (0.008094262656350435, \"Afin d'éviter tout doute, le Figaro n'est pas responsable de toute erreur dans les informations fournies concernant les Lots figurant sur le Site.\"), (0.008034384608883975, 'Le Figaro se réserve le droit de refuser une inscription ou de suspendre ou fermer un compte s’il a des doutes sur ces informations.'), (0.008023906390774408, \"En conséquence, L'Utilisateur reconnait que la responsabilité de Figaro ne pourra être recherchée au titre de l'information et des services proposés dans le Site en matière de santé, et accepte que l'utilisation de ces informations et services s'effectue sous sa seule et entière responsabilité, contrôle et direction.\"), (0.008018844571424467, \"Le Figaro ne s'approprie pas les contenus auxquels ces sites ou sources donnent accès, et exclut toute responsabilité et garantie en ce qui concerne leurs contenus.\"), (0.00801067484837502, \"Article 2 - Présentation du Site\\n\\nLe Site propose notamment à l'Utilisateur :\\n\\n    la consultation de contenus et d'informations présents sur le Site (moyennant, le cas échéant, la souscription d’un abonnement pour les contenus payants)\\n    différents Services, sous réserve de son inscription préalable, lui permettant d'avoir accès à un contenu spécifique et particulier et/ou condensé de l'actualité du jour, de mettre en ligne, de stocker, de partager et commenter les contenus personnels et collectifs et/ou de bénéficier de services et d'offres promotionnelles spécifiques).\"), (0.007983388338201421, \"Le Figaro pourra notamment à cette fin assigner l'utilisateur du Site en responsabilité civile et/ou pénale.\"), (0.007955729709056692, \"Le Figaro se réserve également la possibilité de supprimer tout article ou commentaire porté à sa connaissance qui contreviendrait manifestement aux règles mentionnées dans les CGU et dans la Charte de participation, elle même accessible à l'adresse suivante http://www.lefigaro.fr/charte_moderation/charte_moderation.html ou qui feraient l'objet d'un signalement de la part des tiers.\"), (0.007925929551271891, \"Conformément à l'article 6 alinéa 7 de la Loi n° 2004-575 du 21 juin 2004 pour la confiance dans l'économie numérique, Le Figaro met en place un dispositif facilement visible et accessible aux utilisateurs du Site, associant à chaque contenu présent sur le Site, un lien Alerter permettant de signaler tout abus.\"), (0.007834232742988497, 'En cas de non-respect des CGU par un Utilisateur inscrit, son Compte personnel peut être, immédiatement et sans préavis, désactivé à titre temporaire ou définitif, sans préjudice des autres droits du Figaro.'), (0.0078078127397492505, \"La création d'un Compte sur Le Figaro est destinée à l'usage des personnes majeures.\"), (0.00780250323166203, \"Le Figaro n'est pas partie à la transaction réalisée entre l'Utilisateur et le Vendeur pour la vente des Lots et le Figaro n'agit pas non plus en qualité d'agent ou autrement pour le compte d'un Vendeur, quel qu'il soit.\"), (0.007790751276046659, \"Il est convenu qu'en cas de divergence entre les registres informatisés du Figaro et les documents au format papier ou électronique dont dispose l'utilisateur, les registres informatisés du Figaro feront foi.\"), (0.007786505420189776, 'Le Figaro s’engage toutefois à informer les dits partenaires et établissements de crédit des choix exprimés par les Utilisateurs et, le cas échéant, à rappeler aux dits partenaires et établissements de crédit leur obligation légale, en l’absence de choix dûment exprimé par l’Utilisateur, de n’utiliser les données personnelles que pour l’objet de leurs annonces, à l’exclusion de tout autre usage et, notamment, à l’exclusion de toute prospection commerciale.'), (0.007768614132240583, \"Article 3 - Droits de Propriété Intellectuelle du Site\\n\\nL’Utilisateur s'interdit de reproduire et/ou d'utiliser les marques et logos présents sur le Site, ainsi que de modifier, copier, traduire, reproduire, vendre, publier, exploiter et diffuser dans un format numérique ou autre, tout ou partie des informations, textes, photos, images, vidéos et données présents sur le Site, qui constituent des œuvres au sens des dispositions de l’article L112-1 du code de la propriété intellectuelle.\"), (0.007755225212278368, \"Le Figaro peut de temps à autre, mettre à disposition des informations lorsque des catalogues et autres informations relatives à la vente provenant de marchands, de salles des ventes et d'autres vendeurs (ci-après le(s) « Vendeur(s) ») peuvent être aisément présentés pour consultation.\"), (0.0077232050153478145, \"Article 11 - Autonomie des clauses des CGU\\n\\nDans l'éventualité où l'une quelconque des dispositions des présentes CGU serait réputée inapplicable en vertu du droit en vigueur, l'Utilisateur et le Figaro conviennent de la renégocier en toute bonne foi afin de préserver la position économique dont elles bénéficient au plus près de celle mentionnée au titre de la disposition rendue inapplicable.\"), (0.0077009513610479495, 'En outre, Le Figaro ne garantit en aucun cas un quelconque résultat à la suite de la mise en application des informations et services proposés dans le Site.'), (0.007682582284857725, \"Les messages laissés sur le Site par l'Utilisateur expriment sa pensée et non celle du Figaro.\"), (0.007664380338276659, \"Le Figaro ni aucun de ses partenaires ne sauraient être tenus pour responsables d'un quelconque dommage, direct ou indirect, consécutifs, spéciaux, accessoires, dissuasifs pouvant résulter d'erreurs, d'omissions ou de retards dans la transmission d'informations sur le Site, de la perte de l'information ou des problèmes survenus lors des paiements électroniques des Services.\"), (0.007650105346906994, \"En sa qualité d'éditeur du Site, Le Figaro est libre de commercialiser auprès d'annonceurs de son choix les espaces publicitaires du Site.\"), (0.007624377623785239, \"En cas de non respect des termes des présentes CGU, Le Figaro se réserve le droit de prendre toute mesure de nature à préserver ses intérêts et notamment à en assurer l'exécution.\"), (0.007618648510528893, 'Si toutefois, dans les pages du Site, se trouve un lien avec une page externe dans laquelle des contenus illicites venaient à être diffusés par un tiers, Le Figaro effacera, après avoir été dûment informé desdits contenus, le lien avec cette page.'), (0.007585101048127466, \"Plus généralement, l'Utilisateur s'engage à se conformer à la Charte de participation du Figaro, étant précisé que les propos sont susceptibles d'être modérés.\"), (0.0075850806231004915, \"L'existence de liens du Site vers d'autres sites ne constitue en rien une validation de ces sites ou de leur contenu par Le Figaro.\"), (0.007584994983858993, 'Site : désigne l’ensemble des contenus et services proposés par Le Figaro sur le site accessible à l’adresse http://www.lefigaro.fr, quelle que soit la rubrique (exemple : actualités, sport, culture, lifestyle) ou le titre concerné(e) (exemple : Figaro Nautisme, Figaro TV, madame, Figaro Enchères, Figaro Immobilier).'), (0.007565794890067692, \"Cependant, n'ayant pas le contrôle de toutes les données et informations diffusées sur le Site, Le Figaro ne garantit pas que ces dernières soient exactes, exemptes d'erreur et complètes, ni qu'elles répondent parfaitement à leurs attentes.\"), (0.007530660753356505, \"L'Utilisateur est informé que l’accès libre et gratuit aux Contenus et Services du Site, ainsi qu’aux Applications (hors édition abonnés), est financé par les revenus liés à la publicité diffusée sur ces espaces.\"), (0.0075145574406872764, 'En conséquence, le Figaro ne fait ni ne fournit aucune déclaration, certification ou garantie quelconque en ce qui concerne ce qui est proposé à la vente par le Commissaire-priseur au travers du Site.'), (0.007507174973085744, 'En aucun cas, les informations et services proposés sont susceptibles de se substituer à une consultation, une visite ou un diagnostic formulé par un médecin ou peuvent être interprétées comme assurant la promotion de médicaments.'), (0.007480457585159912, 'L’Utilisateur reconnaît que le Site et les Services sont constitués de plusieurs bases de données, mis à disposition par Le Figaro, en qualité de producteur des dites bases de données au sens des articles L.341-1 et suivants du code de propriété intellectuelle.'), (0.007462915633556081, \"Le Figaro ne procède pas à l'estimation des Lots et n'agit pas en qualité de spécialiste ou d'expert pour toute question relevant de ces domaines.\"), (0.007462274319960145, \"Article 6 - Liens\\n\\nLe Site comporte des informations mises à disposition par des sociétés externes ou des liens hypertextes vers d'autres sites qui n'ont pas été développés par Le Figaro.\"), (0.007452523793438672, \"Les Utilisateurs reconnaissent également que Le Figaro ne peut pas être tenu pour responsable du non respect par le partenaire immobilier et/ou l'établissement de crédit (ou le courtier) des choix de l'Utilisateur quant à l'utilisation de ses données personnelles.\"), (0.007452032399413053, 'Le rôle du Figaro se limite dans ce cas à la prestation du service consistant à diffuser les informations relatives aux lots (ci-après les « Lots ») mis en vente et fournis par les Vendeurs susvisés.'), (0.00744349959314028, \"Suivant réception par Le Figaro d'un signalement adressant les infractions visées ci-avant, le contenu concerné fera immédiatement l'objet d'une suppression du Site le cas échéantd'une information aux autorités publiques compétentes.\"), (0.007436598372984073, \"L'archivage des formulaires d'inscription est effectué sur un support de nature à assurer le caractère fidèle et durable et pour la durée requise par les dispositions légales en vigueur notamment le Décret n° 2011-219 du 25 février 2011 relatif à la conservation et à la communication des données permettant d'identifier toute personne ayant contribué à la création d'un contenu mis en ligne'.\"), (0.007426617529702946, \"En conséquence, l'Utilisateur reconnait et accepte qu'il ne pourra en aucun cas présenter de réclamation ou intenter d'action en justice contre le Figaro concernant la vente (ou la non-vente) de tout Lot.\"), (0.007404143283344821, 'La responsabilité du Figaro ne saurait être engagée du fait des informations, opinions et recommandations formulées par des tiers.'), (0.00739053231813973, \"L'e Figaro n'est pas partie à leurs conditions générales et n'a aucune responsabilité à l'égard de ces dernières.\"), (0.007384224076741824, \"Plus particulièrement, les résultats obtenus par l'Utilisateur dans le cadre des différentes informations fournies de quelque façon que ce soit par le Site ne sont donnés qu'à titre indicatif, et ne présume pas de la qualité de son état de santé actuel et/ou futur, ou à l'inverse ne peuvent remettre en cause son état de santé.\"), (0.0073596739641171435, \"Enfin, n'exerçant pas une activité d'établissement de crédit et limitant son intervention à la simple mise en relation de l'Utilisateur avec les dits établissements de crédits (ou courtiers), Le Figaro ne peut non plus être tenu pour responsable de :\\n\\n    la qualité des conseils prodigués par ces derniers, une fois leur mise en relation par l'intermédiaire des Services ;\\n    la bonne exécution du prêt immobilier conclu entre lesdits établissements de crédit ou courtiers et l'Utilisateur ;\\n    la licéité des solutions de financement proposées par les dits établissements de crédit ou courtiers.\"), (0.007352290973655171, \"Compte tenu du caractère communautaire du Site et par respect pour les sensibilités de chacun, il appartient à l'Utilisateur de faire preuve de discernement et de prudence s'agissant des informations qu'il met en ligne.\"), (0.007350860497398182, \"Toutefois, Le Figaro ne garantit pas plus la conclusion de relation contractuelle entre l'Utilisateur et lesdits partenaires et/ou établissements de crédits.\"), (0.007343495057250725, \"Article 7 - Inscription et Accès\\n\\nAux fins de bénéficier des Services du Site, l'Utilisateur dûment inscrit doit créer un compte au moyen du Formulaire d'inscription en ligne prévu à cet effet.\"), (0.007335479831376056, 'Les liens sont réalisés en partie automatiquement, et ne peuvent être tous vérifiés par le personnel du Figaro.'), (0.007322007049789534, \"L'Utilisateur s'engage à respecter l'intégralité de la législation boursière, en vigueur et notamment à ne pas diffuser de fausses informations ou communiqués de presse des sociétés cotées, à respecter les règles applicables au marché boursier issues notamment des différents règlements de la Commission des Opérations de Bourse et de l'ordonnance n° 67-833 du 26 septembre 1967 (délit d'initié, délit de communication d'information privilégiée, délit de diffusion de fausses informations, délit de manipulation des cours, délit de spéculation illicite...).\"), (0.0073208994881794895, 'Le Figaro met en garde les personnes titulaires de l’autorité parentale sur la diversité des contenus disponibles sur Internet, lesquels peuvent être susceptibles de heurter la sensibilité des mineurs ou leur porter préjudice.'), (0.007289634105566994, \"Le Figaro n'effectue aucune déclaration et n'offre aucune garantie d'aucune sorte en ce qui concerne les Lots (y compris, sans limitation aucune, les déclarations ou garanties relatives à l'exactitude de la description, de l'authenticité, la qualité, la paternité, l'attribution, la provenance, l'époque, la culture, la source, l'origine, la sécurité, l'aptitude à l'emploi ou la disponibilité à la vente des Lots).\"), (0.007279529590009251, \"Le Contenu, les commentaires et toute autre donnée affichés dans le Site n'ont pas vocation à constituer des conseils sur la foi desquels une décision d'achat pourrait être prise par l'Utilisateur.\"), (0.0072743355502142715, \"En particulier, il garantit que le stockage et la diffusion de ce contenu via le Site ne constitue pas (i) une violation des droits de propriété intellectuelle de tiers (notamment, articles, ouvrages, photos, créations, clips, émissions de télévision, courts, moyens et /ou longs métrages, animés ou non, publicités, que l'internaute n'a pas réalisé personnellement ou pour lesquels il ne dispose pas des autorisations nécessaires des tiers titulaires de droits sur ceux-ci), (ii) une atteinte aux personnes (notamment diffamation, insultes, injures, etc.)\"), (0.0072524458517163656, \"Le Figaro n'a pas le contrôle des informations communiquées par les Commissaires-priseurs auxquelles l'Utilisateur accède par l'intermédiaire du Site.\"), (0.007248830709840632, \"L'Utilisateur ne doit en aucun cas considérer comme acquis que le Contenu ou autres informations présentées sur le Site sont exactes ou à jour, mais devra vérifier indépendamment par lui-même toutes ces informations.\"), (0.007232456639807979, 'Toute condition contraire non acceptée par Le Figaro lui est inopposable.'), (0.007215135374098565, 'Toute mise en réseau, toute rediffusion, toute exploitation dans un cadre professionnel ou commercial ou toute commercialisation du Contenu auprès de tiers, sous quelque forme que ce soit, est strictement interdite sauf accord préalable du Figaro.'), (0.0072149745029882265, \"Le Figaro se réserve la possibilité d'y mettre fin à tout moment, par courrier électronique, moyennant un préavis raisonnable.\"), (0.0072088271601022415, 'La responsabilité du Figaro ne saurait être engagée en cas de non-respect de la législation du pays de connexion.'), (0.0072046569590507184, \"La navigation dans le Site et/ou l'inscription à un Service emporte de plein droit acceptation expresse et sans réserve des CGU par l'utilisateur du Site.\"), (0.007203938485654125, \"L'Utilisateur s'interdit d'incorporer dans ses contributions au contenu du Site des documents, software ou toute autre données pouvant interrompre ou endommager le fonctionnement des équipements informatiques et/ou de télécommunication du Figaro ou des autres utilisateurs du Site, ou permettant l'accès injustifié à d'autres sites internet.\"), (0.007174086055225539, \"En conséquence, la responsabilité du Site ne saurait être engagée en cas d'erreur dans l'une de ces photographies ou l'un de ces textes.\"), (0.00715806788276533, \"Mise en garde particulière concernant le Contenu santé accessible à l’adresse url suivante : http://sante.lefigaro.fr/\\n\\nLe Site ne permet pas la réalisation d'une consultation médicale\\n\\nLes informations et services proposés au sein du Site ne constituent ni directement, ni indirectement une consultation médicale.\"), (0.0071537535621562075, \"A défaut de conformité avec la Charte de participation, le contenu sera refusé ou retiré et/ou le compte de l'Utilisateur sera désactivé sans formalité préalable et/ou les actions civiles et pénales seront engagées contre l'Utilisateur.\"), (0.00712842323265923, \"En tant qu'Utilisateur inscrit à un ou des Services, celui-ci peut disposer d'un espace personnel.\"), (0.007117768139346594, 'Les présentes conditions générales d\\'utilisation, (\"CGU\"), soumises au droit français, ont vocation à régir l\\'utilisation du Site ainsi que l\\'utilisation des différents services payants ou gratuits (ci-après le(s) « Service(s) »).'), (0.007117552888230999, \"Les nouvelles conditions générales seront, le cas échéant, portées à la connaissance de l'Utilisateur par modification en ligne.\"), (0.007116794091360217, \"Le Site ne peut être utilisé par l'Utilisateur qu'à des fins personnelles et privées à l’exclusion de tout usage commercial notamment.\"), (0.007091572264749547, \"4.4 Mise en garde particulière concernant le Service Figaro Enchères accessible à l’adresse url suivante : http://encheres.lefigaro.fr/fr-fr\\n\\nLe Figaro met à disposition sur le Site, un contenu d'enchères publiques en ligne.\"), (0.007027205553795279, \"Dès lors, l’Utilisateur, en application de ces dispositions, s’interdit également, de procéder, de quelque façon que ce soit, à toute extraction, utilisation à quelque titre que ce soit, stockage, reproduction, représentation au public ou conservation, directe ou indirecte, partielle ou totale, y compris en mémoire tampon ou temporaire, qualitativement ou quantitativement substantielle du contenu d'une ou plusieurs des bases de données du Site.\"), (0.007015139128679979, \"Nonobstant ce qui précède, il est rappelé qu'en vertu de l'article 1124 du Code Civil, les mineurs non émancipés sont incapables de contracter, aussi les mineurs ne pourront s'inscrire à un des Services payants du Figaro.\"), (0.006989037535984833, \"Le Figaro ne dispose d'aucun moyen pour contrôler ces sites (et/ou les produits et services qu’ils proposent) et ces sources, et ne répond pas de la disponibilité de tels sites et sources externes ni ne la garantit.\"), (0.00697971561885547, \"L'accès à son Compte peut s'effectuer par saisie de son pseudo ou adresse de messagerie électronique et Code d'accès associé, dont il assure seul la confidentialité.\"), (0.006963109224982416, 'Les personnes souhaitant exploiter ou utiliser tout ou partie du Contenu dans un cadre professionnel ou commercial, et en particulier, les flux RSS, sont invitées à contacter le service Droits et Reproduction (à l’adresse « syndication-service@lefigaro.fr »).'), (0.006963035588481026, \"L'Utilisateur ne doit donc pas mettre en œuvre les informations disponibles dans le Site pour la formulation d'un diagnostic, la détermination d'un traitement ou la prise et/ou la cessation de la prise de médicament, sans consulter préalablement un médecin généraliste ou spécialiste.\"), (0.006961624990291527, 'Ceux-ci sont destinés à mettre en valeur certains messages, mais ne constituent en aucun cas une adhésion à leur contenu, une approbation, ou un report des responsabilités.'), (0.006959648380572799, \"Le fait pour Le Figaro de ne pas se prévaloir d'une des présentes conditions générales n'équivaut pas à une renonciation du Figaro à s'en prévaloir ultérieurement.\"), (0.006924009505735603, \"Responsabilité générale dans le cadre de l'utilisation du Site et des informations disponibles dans le Site\\n\\nL'Utilisateur utilise le Site ainsi que ses Services à ses risques et sous son entière responsabilité.\"), (0.006921094648701834, 'En conséquence, Le Figaro ne saurait être tenu responsable en cas de collecte à son insu de données nominatives relatives à un mineur.'), (0.00691568466342301, \"Le Site n'étant cependant pas conçu pour la sauvegarde de contenus, il appartient à l'Utilisateur de prendre les mesures nécessaires à cet effet.\"), (0.0068435151409885825, 'En s’inscrivant, l’internaute garantit fournir des informations exactes et à jour concernnat son identité et ses coordonnées.'), (0.006816780457300552, \"Contenu : désigne l'ensemble des informations et publications accessibles dans le Site et notamment sa structure générale, les textes, les données chiffrées, les graphiques et tableaux, les images animées ou non, les vidéos, les sons, les liens hypertextes dont le Site est composé, les signes distinctifs, marques et logos constituant sa charte graphique et les bases de données associées.\"), (0.006784831836702396, \"Les Utilisateurs doivent s'inscrire et accepter les Conditions Générales applicables aux Enchérisseurs avant de pouvoir participer à toutes enchères (qu'elles soient en ligne ou autre).\"), (0.006765390109852157, \"Article 9 - Preuve, Conservation et Archivage\\n\\nLes registres informatisés conservés dans les systèmes dans le respect des règles de l'art en matière de sécurité, seront considérés comme preuves des communications de courriers électroniques, envois de formulaire d'inscription, téléchargements de contenus, publications de contenus et postages de commentaires.\"), (0.006741586916190333, \"Toutes les informations et données diffusées dans le Site sont puisées aux meilleures sources et sont fournies à titre d'information.\"), (0.006625084013472299, \"et au respect du droit à l'image et à la vie privée, (iii) une atteinte à l'ordre public et aux bonnes mœurs (notamment, apologie des crimes contre l'humanité, incitation à la haine raciale, contenu violent, pornographie, etc.).\"), (0.006555049351473781, ': 01 76 63 03 00 -Fax: 01 76 62 31 01 E-mail : figaro-immobilier@explorimmo.com\\n\\nArticle 5 - Disponibilité du Site\\n\\nLe Site est par principe accessible 24/24h, 7/7j, sauf interruption, programmée ou non, pour les besoins de sa maintenance ou cas de force majeure.'), (0.006509255721965104, \"Article 12 - Modification des CGU\\n\\nLe Figaro se réserve la possibilité d'adapter ou de modifier à tout moment les présentes CGU.\"), (0.006493867963071031, 'Les dépêches sont la propriété intellectuelle des différentes agences de presse partenaires du Figaro.'), (0.006436423293714076, \"L'Utilisateur reconnaît ne disposer d'aucun droit sur ces espaces publicitaires et s'interdit toute demande ou action à ce titre.\"), (0.00636199286591413, 'Il demeure à tout moment libre de modifier la teneur des données personnelles communiquées à cette occasion.'), (0.006251814435012955, \"Si l'Utilisateur a des questions, il doit alors contacter directement le Vendeur.\"), (0.0062012444011638485, \"En particulier, il est de la responsabilité de l'Utilisateur de veiller à bien connaitre et comprendre les conditions de transport et de paiement du Vendeur ainsi que celles du commissaire-priseur.\"), (0.006168982151184702, \"Néanmoins, le Figaro n'est pas lui-même un commissaire priseur en ligne.\"), (0.006139106801784669, \"S'ils ne parviennent pas à remplacer cette disposition de façon mutuellement acceptable et applicable, cette disposition sera exclue des présentes et le reste des CGU seront interprétées comme si ladite disposition était exclue et resteront applicables.\"), (0.006088568156650067, 'Article 10 - Textes applicables – Juridiction\\n\\nLes présentes CGU sont soumises à la loi française.'), (0.006068042238149945, \"Elle est ouverte aux mineurs mais sous la surveillance d'un adulte et pour la partie gratuite exclusivement.\"), (0.006051399470257882, \"Mise en garde particulière concernant le Contenu Bourse/conseils et informations en matière d'investissements accessible à l’adresse url suivante : http://bourse.lefigaro.fr/\\n\\nLe Site n'est pas responsable des conseils en investissement.\"), (0.006043695049035332, \"En conséquence, le Figaro ne sera pas partie au contrat de vente et d'achat passé entre l'Utilisateur, en tant qu'enchérisseur, et le Commissaire-priseur organisateur de la vente.\"), (0.006033130973915544, 'Utilisateur : désigne tout utilisateur inscrit sur le Site.'), (0.005943347116060021, \"Il appartient à l'Utilisateur d'utiliser ces informations avec discernement et esprit critique.\"), (0.005906009467847219, 'Les Lots sont alors vendus conformément aux termes des conditions générales de vente du Vendeur en question et à toutes conditions indiquées par le commissaire-priseur en question.'), (0.0058817095939250425, 'Ces données personnelles, identifiées comme étant obligatoires au sein des formulaires de collecte, sont nécessaires pour bénéficier des fonctionnalités du Site et des Services.'), (0.005714251599172952, \"Il incombe à l'Utilisateur d'obtenir et de lire attentivement les termes et conditions du commissaire-priseur et/ou du Vendeur avant de porter une enchère ou d'acheter tout Lot.\"), (0.005711095164894335, 'La fourniture de ces données ne saurait être assimilée, de quelque façon que ce soit, à un conseil spécifique ou à une aide à la décision.'), (0.005670552414437881, 'Les parents sont donc encouragés à surveiller leurs enfants lorsqu’ils se connectent.'), (0.005537698495053673, \"Il s'interdit également d'incorporer dans ses contributions des liens hypertextes ou des commentaires qui se réfèrent ou qui renvoient à des sites extérieurs qui enfreignent les dispositions du présent article.\"), (0.005419735264884234, 'Tous les internautes peuvent lire les articles et commentaires et, éventuellement les commenter.'), (0.005407174657294, \"L'obligation de fourniture du Site et de ses Service se limite à une obligation de moyen.\"), (0.00540080642903481, 'La violation de ces dispositions impératives soumet le contrevenant, et toutes personnes responsables, aux peines pénales et civiles prévues par la loi.'), (0.0053158788644347005, \"Dans le cadre de sa contribution au contenu du Site, au moyen de textes, d'images, de sons, de vidéos ou de commentaires, l'Utilisateur est tenu au respect des dispositions légales et réglementaires en vigueur.\"), (0.005254764647553416, 'Les Contenus proposés sont conformes à la législation française en vigueur.'), (0.005200924983148865, \"L'Utilisateur notera à cet égard que les commissaires-priseurs et Vendeurs sont également susceptibles d'avoir leurs propres conditions générales auxquelles l'Utilisateur devra se conformer.\"), (0.005189271292613661, \"Il appartient à l'Utilisateur de surveiller les commentaires déposés sur ses articles et de signaler les commentaires qui seraient contraires aux dispositions ci-dessus.\"), (0.005184515351884782, \"Ce Contenu n'est qu'un moyen de communication permettant de suivre des ventes aux enchères mises en ligne et d'y participer éventuellement.\"), (0.005159239150422259, \"Les outils d'indexation, de mise en forme et en valeur ne sont là qu'à titre indicatif.\"), (0.005158707154674082, 'En cas de litige les tribunaux français seront seuls compétents.'), (0.005093411609616636, \"Les articles et commentaires sont publiés sous la pleine et entière responsabilité de l'Utilisateur concerné.\"), (0.005069931116327125, \"Dès validation du formulaire, l'Utilisateur reçoit un courrier électronique l'invitant à cliquer sur un lien aux fins de confirmer son inscription.\"), (0.004959739393472691, \"L'Utilisateur est pleinement conscient du caractère aléatoire et du risque pris lors des investissements dans des valeurs mobilières et produits similaires et assimilés.\"), (0.004900321686913584, 'Il s’engage notamment à fournir une adresse électronique dont il est propriétaire.'), (0.004670429168500729, \"Article 4 - Responsabilité de l'Utilisateur\\n\\n4.1.\"), (0.004385026429860071, \"L'utilisation du Site suivant l'inscription est valable pour une durée indéterminée.\"), (0.004029706227955555, 'Il accepte par conséquent l’affichage de la publicité sur le Site et les Applications.'), (0.0037392867963030635, 'Les photographies et les textes reproduits et illustrant les produits présentés ne sont pas contractuels.'), (0.0034552243503342107, \"L'Utilisateur reconnaît que les informations qui sont mises à sa disposition ne traitent pas de l'intégralité des différents symptômes, médicaments et traitements appropriés aux pathologies et différents maux quotidiens qui l'intéressent.\"), (0.0031257769226417167, 'Il en est de même des flux RSS et les newsletters.'), (0.0016354480694880601, 'Ces données sont conservées dans un fichier déclaré à la CNIL.'), (0.0013554783918974449, 'Il en conserve la pleine et entière responsabilité.'), (0.0010323468685616358, '4.3.'), (0.0010323468685616358, '4.2.')]\n"
     ]
    }
   ],
   "source": [
    "print(ranked_sentences)"
   ]
  },
  {
   "cell_type": "code",
   "execution_count": 15,
   "metadata": {},
   "outputs": [
    {
     "name": "stdout",
     "output_type": "stream",
     "text": [
      "the -0.038194 -0.24487 0.72812 -0.39961 0.083172 0.043953 -0.39141 0.3344 -0.57545 0.087459 0.28787 -0.06731 0.30906 -0.26384 -0.13231 -0.20757 0.33395 -0.33848 -0.31743 -0.48336 0.1464 -0.37304 0.34577 0.052041 0.44946 -0.46971 0.02628 -0.54155 -0.15518 -0.14107 -0.039722 0.28277 0.14393 0.23464 -0.31021 0.086173 0.20397 0.52624 0.17164 -0.082378 -0.71787 -0.41531 0.20335 -0.12763 0.41367 0.55187 0.57908 -0.33477 -0.36559 -0.54857 -0.062892 0.26584 0.30205 0.99775 -0.80481 -3.0243 0.01254 -0.36942 2.2167 0.72201 -0.24978 0.92136 0.034514 0.46745 1.1079 -0.19358 -0.074575 0.23353 -0.052062 -0.22044 0.057162 -0.15806 -0.30798 -0.41625 0.37972 0.15006 -0.53212 -0.2055 -1.2526 0.071624 0.70565 0.49744 -0.42063 0.26148 -1.538 -0.30223 -0.073438 -0.28312 0.37104 -0.25217 0.016215 -0.017099 -0.38984 0.87424 -0.72569 -0.51058 -0.52028 -0.1459 0.8278 0.27062\n",
      "\n",
      ", -0.10767 0.11053 0.59812 -0.54361 0.67396 0.10663 0.038867 0.35481 0.06351 -0.094189 0.15786 -0.81665 0.14172 0.21939 0.58505 -0.52158 0.22783 -0.16642 -0.68228 0.3587 0.42568 0.19021 0.91963 0.57555 0.46185 0.42363 -0.095399 -0.42749 -0.16567 -0.056842 -0.29595 0.26037 -0.26606 -0.070404 -0.27662 0.15821 0.69825 0.43081 0.27952 -0.45437 -0.33801 -0.58184 0.22364 -0.5778 -0.26862 -0.20425 0.56394 -0.58524 -0.14365 -0.64218 0.0054697 -0.35248 0.16162 1.1796 -0.47674 -2.7553 -0.1321 -0.047729 1.0655 1.1034 -0.2208 0.18669 0.13177 0.15117 0.7131 -0.35215 0.91348 0.61783 0.70992 0.23955 -0.14571 -0.37859 -0.045959 -0.47368 0.2385 0.20536 -0.18996 0.32507 -1.1112 -0.36341 0.98679 -0.084776 -0.54008 0.11726 -1.0194 -0.24424 0.12771 0.013884 0.080374 -0.35414 0.34951 -0.7226 0.37549 0.4441 -0.99059 0.61214 -0.35111 -0.83155 0.45293 0.082577\n",
      "\n",
      ". -0.33979 0.20941 0.46348 -0.64792 -0.38377 0.038034 0.17127 0.15978 0.46619 -0.019169 0.41479 -0.34349 0.26872 0.04464 0.42131 -0.41032 0.15459 0.022239 -0.64653 0.25256 0.043136 -0.19445 0.46516 0.45651 0.68588 0.091295 0.21875 -0.70351 0.16785 -0.35079 -0.12634 0.66384 -0.2582 0.036542 -0.13605 0.40253 0.14289 0.38132 -0.12283 -0.45886 -0.25282 -0.30432 -0.11215 -0.26182 -0.22482 -0.44554 0.2991 -0.85612 -0.14503 -0.49086 0.0082973 -0.17491 0.27524 1.4401 -0.21239 -2.8435 -0.27958 -0.45722 1.6386 0.78808 -0.55262 0.65 0.086426 0.39012 1.0632 -0.35379 0.48328 0.346 0.84174 0.098707 -0.24213 -0.27053 0.045287 -0.40147 0.11395 0.0062226 0.036673 0.018518 -1.0213 -0.20806 0.64072 -0.068763 -0.58635 0.33476 -1.1432 -0.1148 -0.25091 -0.45907 -0.096819 -0.17946 -0.063351 -0.67412 -0.068895 0.53604 -0.87773 0.31802 -0.39242 -0.23394 0.47298 -0.028803\n",
      "\n",
      "of -0.1529 -0.24279 0.89837 0.16996 0.53516 0.48784 -0.58826 -0.17982 -1.3581 0.42541 0.15377 0.24215 0.13474 0.41193 0.67043 -0.56418 0.42985 -0.012183 -0.11677 0.31781 0.054177 -0.054273 0.35516 -0.30241 0.31434 -0.33846 0.71715 -0.26855 -0.15837 -0.47467 0.051581 -0.33252 0.15003 -0.1299 -0.54617 -0.37843 0.64261 0.82187 -0.080006 0.078479 -0.96976 -0.57741 0.56491 -0.39873 -0.057099 0.19743 0.065706 -0.48092 -0.20125 -0.40834 0.39456 -0.02642 -0.11838 1.012 -0.53171 -2.7474 -0.042981 -0.74849 1.7574 0.59085 0.04885 0.78267 0.38497 0.42097 0.67882 0.10337 0.6328 -0.026595 0.58647 -0.44332 0.33057 -0.12022 -0.55645 0.073611 0.20915 0.43395 -0.012761 0.089874 -1.7991 0.084808 0.77112 0.63105 -0.90685 0.60326 -1.7515 0.18596 -0.50687 -0.70203 0.66578 -0.81304 0.18712 -0.018488 -0.26757 0.727 -0.59363 -0.34839 -0.56094 -0.591 1.0039 0.20664\n",
      "\n",
      "to -0.1897 0.050024 0.19084 -0.049184 -0.089737 0.21006 -0.54952 0.098377 -0.20135 0.34241 -0.092677 0.161 -0.13268 -0.2816 0.18737 -0.42959 0.96039 0.13972 -1.0781 0.40518 0.50539 -0.55064 0.4844 0.38044 -0.0029055 -0.34942 -0.099696 -0.78368 1.0363 -0.2314 -0.47121 0.57126 -0.21454 0.35958 -0.48319 1.0875 0.28524 0.12447 -0.039248 -0.076732 -0.76343 -0.32409 -0.5749 -1.0893 -0.41811 0.4512 0.12112 -0.51367 -0.13349 -1.1378 -0.28768 0.16774 0.55804 1.5387 0.018859 -2.9721 -0.24216 -0.92495 2.1992 0.28234 -0.3478 0.51621 -0.43387 0.36852 0.74573 0.072102 0.27931 0.92569 -0.050336 -0.85856 -0.1358 -0.92551 -0.33991 -1.0394 -0.067203 -0.21379 -0.4769 0.21377 -0.84008 0.052536 0.59298 0.29604 -0.67644 0.13916 -1.5504 -0.20765 0.7222 0.52056 -0.076221 -0.15194 -0.13134 0.058617 -0.31869 -0.61419 -0.62393 -0.41548 -0.038175 -0.39804 0.47647 -0.15983\n",
      "\n",
      "and -0.071953 0.23127 0.023731 -0.50638 0.33923 0.1959 -0.32943 0.18364 -0.18057 0.28963 0.20448 -0.5496 0.27399 0.58327 0.20468 -0.49228 0.19974 -0.070237 -0.88049 0.29485 0.14071 -0.1009 0.99449 0.36973 0.44554 0.28998 -0.1376 -0.56365 -0.029365 -0.4122 -0.25269 0.63181 -0.44767 0.24363 -0.10813 0.25164 0.46967 0.3755 -0.23613 -0.14129 -0.44537 -0.65737 -0.042421 -0.28636 -0.28811 0.063766 0.20281 -0.53542 0.41307 -0.59722 -0.38614 0.19389 -0.17809 1.6618 -0.011819 -2.3737 0.058427 -0.2698 1.2823 0.81925 -0.22322 0.72932 -0.053211 0.43507 0.85011 -0.42935 0.92664 0.39051 1.0585 -0.24561 -0.18265 -0.5328 0.059518 -0.66019 0.18991 0.28836 -0.2434 0.52784 -0.65762 -0.14081 1.0491 0.5134 -0.23816 0.69895 -1.4813 -0.2487 -0.17936 -0.059137 -0.08056 -0.48782 0.014487 -0.6259 -0.32367 0.41862 -1.0807 0.46742 -0.49931 -0.71895 0.86894 0.19539\n",
      "\n",
      "in 0.085703 -0.22201 0.16569 0.13373 0.38239 0.35401 0.01287 0.22461 -0.43817 0.50164 -0.35874 -0.34983 0.055156 0.69648 -0.17958 0.067926 0.39101 0.16039 -0.26635 -0.21138 0.53698 0.49379 0.9366 0.66902 0.21793 -0.46642 0.22383 -0.36204 -0.17656 0.1748 -0.20367 0.13931 0.019832 -0.10413 -0.20244 0.55003 -0.1546 0.98655 -0.26863 -0.2909 -0.32866 -0.34188 -0.16943 -0.42001 -0.046727 -0.16327 0.70824 -0.74911 -0.091559 -0.96178 -0.19747 0.10282 0.55221 1.3816 -0.65636 -3.2502 -0.31556 -1.2055 1.7709 0.4026 -0.79827 1.1597 -0.33042 0.31382 0.77386 0.22595 0.52471 -0.034053 0.32048 0.079948 0.17752 -0.49426 -0.70045 -0.44569 0.17244 0.20278 0.023292 -0.20677 -1.0158 0.18325 0.56752 0.31821 -0.65011 0.68277 -0.86585 -0.059392 -0.29264 -0.55668 -0.34705 -0.32895 0.40215 -0.12746 -0.20228 0.87368 -0.545 0.79205 -0.20695 -0.074273 0.75808 -0.34243\n",
      "\n",
      "a -0.27086 0.044006 -0.02026 -0.17395 0.6444 0.71213 0.3551 0.47138 -0.29637 0.54427 -0.72294 -0.0047612 0.040611 0.043236 0.29729 0.10725 0.40156 -0.53662 0.033382 0.067396 0.64556 -0.085523 0.14103 0.094539 0.74947 -0.194 -0.68739 -0.41741 -0.22807 0.12 -0.48999 0.80945 0.045138 -0.11898 0.20161 0.39276 -0.20121 0.31354 0.75304 0.25907 -0.11566 -0.029319 0.93499 -0.36067 0.5242 0.23706 0.52715 0.22869 -0.51958 -0.79349 -0.20368 -0.50187 0.18748 0.94282 -0.44834 -3.6792 0.044183 -0.26751 2.1997 0.241 -0.033425 0.69553 -0.64472 -0.0072277 0.89575 0.20015 0.46493 0.61933 -0.1066 0.08691 -0.4623 0.18262 -0.15849 0.020791 0.19373 0.063426 -0.31673 -0.48177 -1.3848 0.13669 0.96859 0.049965 -0.2738 -0.035686 -1.0577 -0.24467 0.90366 -0.12442 0.080776 -0.83401 0.57201 0.088945 -0.42532 -0.018253 -0.079995 -0.28581 -0.01089 -0.4923 0.63687 0.23642\n",
      "\n",
      "\" -0.30457 -0.23645 0.17576 -0.72854 -0.28343 -0.2564 0.26587 0.025309 -0.074775 -0.3766 -0.057774 0.12159 0.34384 0.41928 -0.23236 -0.31547 0.60939 0.25117 -0.68667 0.70873 1.2162 -0.1824 -0.48442 -0.33445 0.30343 1.086 0.49992 -0.20198 0.27959 0.68352 -0.33566 -0.12405 0.059656 0.33617 0.37501 0.56552 0.44867 0.11284 -0.16196 -0.94346 -0.67961 0.18581 0.060653 0.43776 0.13834 -0.48207 -0.56141 -0.25422 -0.52445 0.097003 -0.48925 0.19077 0.21481 1.4969 -0.86665 -3.2846 0.56854 0.41971 1.2294 0.78522 -0.29369 0.63803 -1.5926 -0.20437 1.5306 0.13548 0.50722 0.18742 0.48552 -0.28995 0.19573 0.0046515 0.092879 -0.42444 0.64987 0.52839 0.077908 0.8263 -1.2208 -0.34955 0.49855 -0.64155 -0.72308 0.26566 -1.3643 -0.46364 -0.52048 -1.0525 0.22895 -0.3456 -0.658 -0.16735 0.35158 0.74337 0.26074 0.061104 -0.39079 -0.84557 -0.035432 0.17036\n",
      "\n",
      "'s 0.58854 -0.2025 0.73479 -0.68338 -0.19675 -0.1802 -0.39177 0.34172 -0.60561 0.63816 -0.26695 0.36486 -0.40379 -0.1134 -0.58718 0.2838 0.8025 -0.35303 0.30083 0.078935 0.44416 -0.45906 0.79294 0.50365 0.32805 0.28027 -0.4933 -0.38482 -0.039284 -0.2483 -0.1988 1.1469 0.13228 0.91691 -0.36739 0.89425 0.5426 0.61738 -0.62205 -0.31132 -0.50933 0.23335 1.0826 -0.044637 -0.12767 0.27628 -0.032617 -0.27397 0.77764 -0.50861 0.038307 -0.33679 0.42344 1.2271 -0.53826 -3.2411 0.42626 0.025189 1.3948 0.65085 0.03325 0.37141 0.4044 0.35558 0.98265 -0.61724 0.53901 0.76219 0.30689 0.33065 0.30956 -0.15161 -0.11313 -0.81281 0.6145 -0.44341 -0.19163 -0.089551 -1.5927 0.37405 0.85857 0.54613 -0.31928 0.52598 -1.4802 -0.97931 -0.2939 -0.14724 0.25803 -0.1817 1.0149 0.77649 0.12598 0.54779 -1.0316 0.064599 -0.37523 -0.94475 0.61802 0.39591\n",
      "\n",
      "for -0.14401 0.32554 0.14257 -0.099227 0.72536 0.19321 -0.24188 0.20223 -0.89599 0.15215 0.035963 -0.59513 -0.051635 -0.014428 0.35475 -0.31859 0.76984 -0.087369 -0.24762 0.65059 -0.15138 -0.42703 0.18813 0.091562 0.15192 0.11303 -0.15222 -0.62786 -0.23923 0.096009 -0.46147 0.41526 -0.30475 0.1371 0.16758 0.53301 -0.043658 0.85924 -0.41192 -0.21394 -0.51228 -0.31945 0.12662 -0.3151 0.0031429 0.27129 0.17328 -1.3159 -0.42414 -0.69126 0.019017 -0.13375 -0.096057 1.7069 -0.65291 -2.6111 0.26518 -0.61178 2.095 0.38148 -0.55823 0.2036 -0.33704 0.37354 0.6951 -0.001637 0.81885 0.51793 0.27746 -0.37177 -0.43345 -0.42732 -0.54912 -0.30715 0.18101 0.2709 -0.29266 0.30834 -1.4624 -0.18999 0.92277 -0.099217 -0.25165 0.49197 -1.525 0.15326 0.2827 0.12102 -0.36766 -0.61275 -0.18884 0.10907 0.12315 0.090066 -0.65447 -0.17252 2.6336e-05 0.25398 1.1078 -0.073074\n",
      "\n",
      "- -1.2557 0.61036 0.56793 -0.96596 -0.45249 -0.071696 0.57122 -0.31292 -0.43814 0.90622 0.06961 -0.053104 0.25029 0.27841 0.77724 0.26329 0.56874 -1.1171 -0.078268 -0.51317 0.8071 0.99214 0.22753 1.0847 0.88292 0.17221 -0.68686 -0.86467 -0.80003 -0.34738 -0.044074 -0.30444 0.23406 0.28592 0.060548 -0.65477 -0.039738 0.74878 -0.46471 0.063023 -0.16519 -1.2217 -0.089479 -0.8125 0.27615 -0.13841 -0.76667 -0.96974 0.83123 -0.77639 -1.3327 -0.28732 -0.053684 1.1735 -1.1795 -2.7519 0.45359 1.1984 2.8203 0.060114 0.32296 0.19097 0.3459 -0.41503 0.1515 0.38148 1.619 0.9929 -0.82549 -0.098692 0.74449 -0.38602 -1.0004 -1.305 -0.31269 -0.57625 0.14095 -0.80269 -1.4714 -0.48014 1.1993 -0.48561 0.40496 -0.032867 -2.051 0.18284 -0.2723 0.043287 0.066801 -0.62832 -0.05854 0.28253 -0.083276 -0.022234 -0.55914 0.24586 0.36052 -1.5877 0.76984 -0.64998\n",
      "\n",
      "that -0.093337 0.19043 0.68457 -0.41548 -0.22777 -0.11803 -0.095434 0.19613 0.17785 -0.020244 -0.055409 0.33867 0.79396 -0.047126 0.44281 -0.061266 0.20796 0.034094 -0.64751 0.35874 0.13936 -0.6831 0.25596 -0.12911 0.2608 -0.11674 0.024925 -0.60259 -0.41474 -0.51104 0.14936 0.79977 -0.12716 0.40474 -0.21435 0.47031 0.49 0.48886 -0.17772 -0.18861 -0.78391 -0.14158 0.22169 -0.22078 -0.30509 -0.10837 0.57168 -0.7832 -0.16328 -0.76131 0.080873 0.00067217 0.44713 1.3434 -0.20014 -2.868 -0.002647 -0.39858 1.8379 1.2211 -0.16066 0.65853 0.26946 0.27212 0.94735 0.24372 0.8194 0.6774 0.063485 -0.55934 0.45541 -0.64684 -0.034702 -0.45566 0.21847 -0.051689 0.32299 -0.022961 -1.7955 0.31217 0.76227 -0.23191 -1.0133 -0.0064374 -1.8135 -0.75221 0.28362 -0.30815 -0.43853 -0.62654 0.13213 -0.54725 -0.47478 -0.0079727 -0.15112 -0.29326 -0.35118 -0.68175 0.28804 0.54893\n",
      "\n",
      "on -0.21863 -0.42664 0.5196 0.0043103 0.58045 -0.10873 -0.37726 0.4566 -0.60627 -0.075773 0.11306 0.17703 0.1605 0.074514 0.63649 -0.078852 0.75268 -0.24962 -0.51628 -0.33348 0.66754 -0.34183 0.61316 0.31668 0.64846 -0.079312 -0.065219 -0.17718 -0.32439 0.51868 -0.23424 0.34381 0.046851 0.74025 -0.47005 0.53685 -0.35549 0.40737 -0.093421 -0.13439 -0.41969 -0.30041 0.28646 0.37419 -0.46054 -0.307 -0.3858 -0.69317 -0.00092461 -0.61984 0.11978 0.1495 0.17833 1.5313 -0.92445 -3.0428 0.030761 -0.64359 2.3824 0.56219 -0.56021 1.0264 -0.45143 0.14117 0.65944 0.37572 0.098334 0.38304 -0.076882 -0.21781 -0.29892 -0.49458 0.095239 -0.63059 -0.061311 0.17767 -0.14051 0.47182 -0.95891 0.045334 0.808 -0.026867 -0.27483 0.35541 -0.82896 -0.78838 -0.079732 0.22941 -0.45013 -0.3004 -0.52716 0.11358 -0.49906 0.827 -0.56991 0.25143 -0.40266 -0.29146 1.3816 0.18084\n",
      "\n",
      "is -0.54264 0.41476 1.0322 -0.40244 0.46691 0.21816 -0.074864 0.47332 0.080996 -0.22079 -0.12808 -0.1144 0.50891 0.11568 0.028211 -0.3628 0.43823 0.047511 0.20282 0.49857 -0.10068 0.13269 0.16972 0.11653 0.31355 0.25713 0.092783 -0.56826 -0.52975 -0.051456 -0.67326 0.92533 0.2693 0.22734 0.66365 0.26221 0.19719 0.2609 0.18774 -0.3454 -0.42635 0.13975 0.56338 -0.56907 0.12398 -0.12894 0.72484 -0.26105 -0.26314 -0.43605 0.078908 -0.84146 0.51595 1.3997 -0.7646 -3.1453 -0.29202 -0.31247 1.5129 0.52435 0.21456 0.42452 -0.088411 -0.17805 1.1876 0.10579 0.76571 0.21914 0.35824 -0.11636 0.093261 -0.62483 -0.21898 0.21796 0.74056 -0.43735 0.14343 0.14719 -1.1605 -0.050508 0.12677 -0.014395 -0.98676 -0.091297 -1.2054 -0.11974 0.047847 -0.54001 0.52457 -0.70963 -0.32528 -0.1346 -0.41314 0.33435 -0.0072412 0.32253 -0.044219 -1.2969 0.76217 0.46349\n",
      "\n",
      "was 0.13717 -0.54287 0.19419 -0.29953 0.17545 0.084672 0.67752 0.098295 -0.035611 0.21334 0.51663 0.20687 0.44082 -0.33655 0.56025 -0.6879 0.51957 -0.21258 -0.52708 -0.12249 0.33099 0.026448 0.59007 0.0065469 0.45405 -0.33884 -0.28261 -0.24633 0.10847 0.3164 -0.15368 0.73503 0.11858 0.70842 0.075081 0.29738 -0.11395 0.40807 -0.042531 -0.21301 -0.79849 -0.12703 0.752 -0.41746 0.46615 -0.039097 0.65961 -0.32336 0.442 -0.94137 -0.23125 -0.30604 0.79912 1.4581 -0.88199 -3.0041 -0.75243 -0.20503 1.1998 0.94881 0.30649 0.48411 -0.7572 0.65856 0.70107 -0.93141 0.52928 0.23323 0.18857 0.38691 0.011489 -0.31937 0.011858 0.22944 0.17764 0.16868 0.14003 0.58647 -1.5447 -0.064425 -0.00064711 0.13606 -0.32695 0.10043 -1.546 -0.5476 0.21027 -0.67195 -0.1597 -0.68271 -0.22043 -0.87088 -0.16248 0.83086 -0.23045 0.19864 -0.051892 -0.52057 0.25434 -0.23759\n",
      "\n",
      "said -0.13128 -0.452 0.043399 -0.99798 -0.21053 -0.95868 -0.24609 0.48413 0.18178 0.475 -0.22305 0.30064 0.43496 -0.3605 0.20245 -0.52594 -0.34708 0.0075873 -1.0497 0.18673 0.57369 0.43814 0.098659 0.3877 -0.2258 0.41911 0.043602 -0.7352 -0.53583 0.19276 -0.21961 0.42515 -0.19082 0.47187 0.18826 0.13357 0.41839 1.3138 0.35678 -0.32172 -1.2257 -0.26635 0.36716 -0.27586 -0.53246 0.16786 -0.11253 -0.99959 -0.60706 -0.89271 0.65156 -0.88784 0.049233 0.67111 -0.27553 -2.4005 -0.36989 0.29136 1.3498 1.7353 0.27 0.021299 0.14422 0.023784 0.33643 -0.35476 1.0921 1.4845 0.4943 0.15688 0.34679 -0.57221 0.12093 -1.2616 1.0541 0.064335 -0.002732 0.19038 -1.7643 0.055068 1.4737 -0.41782 -0.57342 -0.12129 -1.3169 -0.73883 0.17682 -0.019991 -0.49176 -0.55247 1.0623 -0.62879 0.29098 0.13238 -0.70414 0.67128 -0.085462 -0.30526 -0.045495 0.56509\n",
      "\n",
      "with -0.43608 0.39104 0.51657 -0.13861 0.2029 0.50723 -0.012544 0.22948 -0.6316 0.21199 -0.018043 -0.39364 0.74164 0.30221 0.51792 -0.25191 0.25373 -0.65184 -0.42963 0.0093622 0.023334 -0.39245 0.34948 0.21217 0.7346 -0.21962 -0.028611 -0.34641 -0.20934 -0.27091 -0.17637 0.82396 -0.082339 -0.034869 0.079722 0.34841 0.60887 0.22811 -0.29633 0.18633 0.234 -0.70966 0.16312 -0.20857 0.092369 -0.075435 -0.13905 -0.35121 -0.19972 -0.41687 -0.31485 0.16123 0.038882 1.6654 -0.12401 -3.3419 0.10929 -0.026199 1.244 0.84374 -0.15679 0.79041 -0.042433 0.18884 0.064345 -0.11683 1.0467 0.71813 0.57834 0.27014 -0.50908 -0.083995 -0.1437 -0.76408 0.27418 0.56814 -0.39375 -0.32558 -0.92854 -0.13098 1.3277 0.11851 -0.15551 0.5972 -1.084 -0.058137 0.23886 0.14558 -0.59303 -0.47511 -0.22064 -0.37591 -0.79649 0.013465 -0.44595 -0.34623 -0.75398 -0.3517 0.99456 0.088196\n",
      "\n",
      "he 0.1225 -0.058833 0.23658 -0.28877 -0.028181 0.31524 0.070229 0.16447 -0.027623 0.25214 0.21174 -0.059674 0.36133 0.13607 0.18755 -0.1487 0.31315 0.13368 -0.59703 -0.030161 0.080656 0.26162 -0.055924 -0.35351 0.34722 -0.0055801 -0.57935 -0.88007 0.42931 -0.15695 -0.51256 1.2684 -0.25228 0.35265 -0.46419 0.55648 -0.57556 0.32574 -0.21893 -0.13178 -1.1027 -0.039591 0.89643 -0.9845 -0.47393 -0.12855 0.63506 -0.94888 0.40088 -0.77542 -0.35153 -0.27788 0.68747 1.458 -0.38474 -2.8937 -0.29523 -0.38836 0.94881 1.3891 0.054591 0.70486 -0.65699 0.075648 0.7655 -0.63365 0.86556 0.42441 0.14796 0.4156 0.29354 -0.51295 0.19635 -0.45568 0.0080246 0.14528 -0.15395 0.11406 -1.2167 -0.1111 0.8264 0.21738 -0.63776 -0.074874 -1.713 -0.8827 -0.0073058 -0.37623 -0.50209 -0.58844 -0.24943 -1.0425 0.27678 0.64142 -0.64605 0.43559 -0.37276 -0.0032068 0.18744 0.30702\n",
      "\n",
      "as -0.32721 0.096446 0.34244 -0.44327 0.30535 -0.042016 -0.071235 -0.31036 -0.22557 -0.181 -0.29088 -0.61542 0.29751 0.030491 0.41504 -0.51489 0.68628 -0.020302 -0.18486 0.31605 0.59472 -0.2147 0.29256 0.43262 0.35466 -0.29659 -0.27086 -0.48953 -0.047391 0.24521 -0.15783 0.59742 -0.41664 0.057632 0.1233 0.62326 -0.08844 0.3077 -0.15742 -0.28381 -0.58058 -0.022824 0.26689 -0.22565 0.47548 0.11134 0.37263 -0.14554 -0.16775 -0.79377 -0.30593 -0.10671 0.44199 1.5698 -0.73062 -2.7314 -0.19366 -0.32983 1.2881 0.62126 -0.255 0.8416 -0.23658 0.42594 0.86589 -0.35904 0.78162 0.20396 0.82898 0.0016123 -0.24008 -0.72735 -0.053671 -0.22264 0.31034 -0.21243 -0.14335 0.317 -0.80478 -0.49311 0.88023 -0.24147 -0.3922 0.15997 -1.5854 -0.25824 0.052834 -0.11983 -0.018874 -0.77356 0.049285 -0.25332 -0.3073 0.51295 -0.56802 -0.21239 -0.39741 -0.38165 0.43994 0.24683\n",
      "\n",
      "it -0.30664 0.16821 0.98511 -0.33606 -0.2416 0.16186 -0.053496 0.4301 0.57342 -0.071569 0.36101 0.26729 0.27789 -0.072268 0.13838 -0.26714 0.12999 0.22949 -0.18311 0.50163 0.44921 -0.020821 0.42642 -0.068762 0.40337 0.095198 -0.31944 -0.54651 -0.13345 -0.56511 -0.20975 1.1592 -0.194 0.19828 -0.11924 0.41781 0.0068383 -0.20537 -0.53375 -0.52225 -0.38227 -0.0065833 0.14265 -0.42502 -0.3115 0.0027352 0.75093 -0.48218 -0.18595 -0.77104 -0.046406 -0.06914 0.41688 1.3235 -0.81742 -3.3998 -0.11307 -0.34123 2.0775 0.61369 0.14792 0.93753 -0.10138 0.28426 0.97899 -0.32335 0.63697 0.58308 0.2282 -0.31696 0.21061 -0.6506 0.21653 -0.24347 0.55519 -0.34351 -0.095093 -0.14715 -1.2876 0.3931 0.30163 -0.21767 -1.1146 0.51349 -1.341 -0.30381 0.32499 -0.45236 -0.17743 -0.048504 -0.12178 -0.42108 -0.40327 0.038452 -0.36084 0.037738 -0.21885 -0.38775 0.36916 0.54521\n",
      "\n",
      "by -0.20875 -0.1174 0.26478 -0.28339 0.19584 0.7446 -0.03887 0.028499 -0.44252 -0.30426 0.27133 -0.51907 0.52183 -0.76648 0.28043 -0.48344 -0.15626 -0.49705 -0.51024 -0.03652 0.20579 -0.6136 0.46388 0.73497 0.66813 -0.4443 -0.17603 -0.5478 -0.013521 0.16333 0.28148 0.054223 -0.19906 -0.1907 -0.43179 0.14781 0.27555 0.18571 -0.40776 -0.15415 -0.5885 -0.0085281 -0.14178 0.7061 0.54031 -0.43305 0.17497 -0.46208 -0.31372 -0.34039 -0.25128 0.68228 0.33576 1.5862 -0.39427 -2.9938 -0.29773 0.04213 1.9075 -0.072628 -0.092191 0.66133 0.13868 0.78774 0.69307 -0.22185 0.71705 1.1453 1.2153 0.14196 -0.79914 0.16965 -0.34532 -0.51742 -0.15648 0.18757 0.1694 -0.0082713 -1.4511 0.061983 1.1019 0.084411 -0.34148 0.49994 -1.1106 -0.13759 0.15377 -0.061006 -0.53826 -0.78941 -0.12566 -0.57381 -0.73484 0.54774 -0.28455 -0.24348 -0.27511 -0.33267 0.27878 -0.8705\n",
      "\n",
      "at 0.1766 0.093851 0.24351 0.44313 -0.39037 0.12524 -0.19918 0.59855 -0.82035 0.28006 0.54231 0.023079 0.12837 -0.044489 0.3837 -0.75659 0.40254 -0.4462 -0.81599 -0.0091513 0.65219 -0.043656 0.54919 -0.16696 0.73028 -0.20703 -0.069863 -0.31259 0.27226 0.084905 -0.60498 0.42826 0.60134 0.50953 -0.39073 0.44608 -0.36331 0.50858 -0.20308 -0.43503 -0.086827 -0.86581 -1.0151 -0.35725 -0.12993 0.3324 0.3026 0.067277 -0.52948 -0.81223 0.39562 -0.79537 0.24331 1.2506 -1.0169 -3.3391 -0.79691 -0.33877 1.366 0.87513 -0.63701 0.68381 -0.057432 0.12541 -0.8258 -0.56117 0.30807 0.1545 0.61473 0.67403 -0.60833 -0.25911 -0.35619 -0.71189 -0.31207 0.035238 0.22488 -0.33492 -1.1586 -0.17373 0.95937 0.24479 -0.46205 -0.075941 -1.0844 0.093676 0.48546 0.13008 0.23455 -0.27964 -0.24481 -0.016213 0.46302 1.0291 -0.81817 0.17522 0.06797 0.056305 1.2312 0.40695\n",
      "\n",
      "( 0.19247 0.36617 0.52301 -0.79857 -0.2592 0.18267 0.19564 0.83148 -0.67636 -0.84648 1.4429 -0.84978 -0.023986 1.328 0.74061 0.039546 0.61659 -0.075604 -0.59537 0.69163 0.71303 0.016798 0.57518 0.94396 0.38447 -0.095771 0.40682 -0.1736 0.29918 0.023185 -0.76169 1.1022 0.25427 -0.59429 0.19951 0.0047585 0.55357 1.3464 0.46901 0.35119 -0.15608 -0.74119 -0.454 -0.4307 0.49688 -0.97074 -0.45785 -0.19753 -0.25268 -0.22272 0.69589 0.37725 0.70939 0.71797 -1.0762 -2.2584 0.21776 -0.086578 1.0148 0.4768 0.56119 0.80465 -1.0638 0.54387 0.84943 0.051364 -0.21503 -0.25736 0.67899 0.31385 -0.02978 0.38168 -0.68692 -0.18547 0.70286 -0.77652 -0.19728 0.45196 -1.2119 -0.28732 -0.027681 -0.66313 -0.39999 -0.29214 -0.72999 1.3007 -0.090283 0.093152 1.0336 -0.29074 -0.24114 0.21022 0.031178 0.20095 -0.75632 0.343 -0.024949 -1.2276 1.1152 -1.0234\n",
      "\n",
      ") -0.13797 0.27084 0.84036 -0.45668 -0.49429 0.35777 0.077772 0.42481 0.0076481 -0.50942 1.4008 -0.79993 0.053011 1.2054 0.3783 0.0842 0.91317 -0.35173 -0.30452 0.65606 0.50428 0.074796 0.31149 0.81957 0.40216 0.10982 0.39245 -0.47063 0.28423 0.13887 -1.0394 1.0172 -0.20146 -0.2723 0.071315 -0.48863 0.55583 0.85816 -0.04158 0.31446 -0.12432 -0.80119 -0.015955 -0.58919 0.32295 -1.0475 -0.53598 -0.77031 -0.39489 -0.27798 0.10422 -0.28293 0.72327 1.2162 -0.67242 -2.6729 -0.30428 0.039434 0.99252 0.29029 0.14169 0.29153 -0.47012 0.54204 0.71572 -0.29337 -0.034427 -0.059365 1.1216 0.41185 -0.094306 -0.21824 -0.027208 -0.53825 0.037405 -0.8403 0.035407 0.51239 -1.0315 -0.24264 -0.42759 -0.77984 -0.58269 0.026131 -0.94419 0.91568 0.16742 -0.45787 0.76123 -0.043248 -0.28311 0.063622 -0.24463 0.1474 -0.82823 0.57946 -0.1286 -0.96056 0.3906 -0.92805\n",
      "\n",
      "from 0.30731 0.24737 0.68231 -0.52367 0.44053 0.42044 0.0002514 0.15265 -0.61363 0.22631 0.083071 0.070425 0.017683 0.56807 1.0067 -0.46206 0.44524 -0.50984 -0.42985 0.19935 0.22729 0.51662 0.56282 0.41282 0.17742 -0.15694 -0.11505 -0.3805 0.4744 -0.16686 0.23153 0.063698 -0.10716 -0.26848 -0.42665 0.52237 0.095376 0.6402 -0.52221 -0.13856 -0.98307 -0.3532 -0.52161 0.11277 0.31634 0.13297 -0.049571 -0.13785 0.11317 -0.50644 0.38373 0.36698 0.39106 0.98143 -0.5441 -2.464 -0.68383 -0.96243 2.2017 0.56643 -0.04941 1.3093 -0.40073 0.8353 0.1744 0.044926 0.54118 -0.11038 0.382 0.15369 -0.37072 -0.13141 -0.52504 -0.56775 -0.16822 -0.091726 0.081418 0.045884 -1.4401 -0.16349 0.49361 0.2141 -0.7011 0.23067 -1.1803 0.065701 -0.046429 0.080979 -0.16424 -0.72896 -0.21221 0.034235 -0.40642 0.28826 -0.81331 -0.067997 -0.25439 0.13735 1.0103 -0.77614\n",
      "\n",
      "his 0.12883 -0.82209 0.27438 -0.069014 0.17989 0.72605 -0.15112 0.0085541 -0.95122 0.77243 -0.28375 0.28329 0.14825 -0.01223 -0.019267 -0.03446 0.31506 -0.16639 -0.013435 -0.0020459 0.064905 -0.20989 0.12524 0.3523 0.6404 0.05957 -0.80302 -0.81648 0.66134 0.05997 -0.061521 0.84922 -0.028733 0.2767 -1.0068 0.71758 -0.37257 0.43064 -0.49244 0.38683 -0.36828 0.027982 1.5346 -0.60533 -0.34449 -0.17069 0.29288 -0.53581 0.56035 -0.63013 -0.12308 0.093633 0.59336 1.5214 -0.092629 -3.1408 0.13931 -0.5382 1.1736 0.62318 0.43621 1.2856 0.12121 0.46206 0.56142 -0.41439 0.9436 0.38954 -0.053156 0.18622 -0.18785 0.37603 0.13878 -1.2881 0.18534 0.35157 -0.80888 -0.067662 -1.1934 0.20095 0.96297 0.92074 -0.030933 -0.11743 -1.521 -0.77539 -0.091178 -0.12774 -0.63958 -0.68099 -0.16037 -0.21732 0.57088 0.86688 -0.67851 -0.60641 -0.68927 -0.33961 0.42743 0.16575\n",
      "\n",
      "'' 0.16478 0.17071 0.62111 -1.2101 -0.84063 0.21893 0.48123 -0.15044 0.36701 -0.20857 -0.23385 0.019356 -0.045098 0.18001 0.11995 -0.25622 -0.026299 0.28473 -0.91322 0.59811 0.30248 0.27973 0.11444 -0.073628 0.88137 1.0633 -0.22116 -0.7982 -0.137 -0.2935 0.30011 -0.027594 0.13646 0.0495 0.066336 0.62306 0.4118 0.090881 0.20817 -1.1378 -0.15726 -0.27827 -0.16412 0.50816 -0.75323 -0.33559 -0.14433 -0.85375 -0.76168 -0.65671 0.063944 0.046424 0.15268 1.3671 0.057888 -2.7643 0.45043 0.95083 1.9512 0.66661 -0.32556 1.1692 -0.058985 -0.4976 0.82273 -0.43086 1.5947 0.97728 0.57046 -0.012486 0.63458 -0.67646 -0.22447 -0.41826 0.48309 -0.003709 0.040551 0.13703 -0.93292 -0.24249 0.69614 -0.1772 -0.49188 -0.1192 -1.3653 0.082923 -0.26056 -0.43172 -0.28799 -0.56304 0.065289 -0.56735 0.22621 0.47139 -0.48157 0.56438 0.34019 -0.44047 -0.10587 0.79509\n",
      "\n",
      "`` 0.092672 0.20241 0.69394 -0.50775 -0.097297 0.045522 -0.14156 0.30736 -0.35448 -0.20612 -0.21092 -0.0026685 -0.11537 0.052913 0.02908 0.0067036 0.47268 0.44669 -0.35419 0.70959 0.6984 0.42713 -0.40276 -0.37443 0.7434 0.67827 -0.53675 -0.96641 -0.42534 -0.26468 0.25737 0.57259 0.072823 0.45968 0.080224 0.34628 0.69218 0.28035 0.484 -0.36537 -0.3727 0.4901 -0.2787 -0.22158 -0.45082 -0.35663 -0.18381 -0.50743 -0.62373 -1.084 -0.14465 -0.049544 0.1102 0.81705 -0.85176 -2.8731 0.72268 0.31316 1.625 1.1221 -0.13595 1.0558 -0.49829 -0.62308 1.1854 -0.52551 1.1743 0.62574 -0.14725 0.25494 0.27639 -0.57139 -0.29194 -0.5177 0.18006 0.024181 0.16562 0.25703 -1.151 -0.18682 0.99148 -0.34432 -0.53266 0.47968 -1.8672 -0.52944 -0.049901 -0.48973 -0.60601 -0.63287 0.14499 -0.10127 0.25294 0.37802 -0.39809 -0.4138 -0.05448 -0.51348 -0.2775 1.1636\n",
      "\n",
      "an -0.4214 -0.18797 0.46241 -0.17605 0.36212 0.36701 0.27924 0.14634 -0.054227 0.45834 0.065416 -0.33725 0.067505 -0.36316 0.50302 -0.010361 0.72826 -0.17564 -0.33996 0.072864 0.64481 -0.23908 0.38383 0.13858 1.0994 -0.24883 -0.15078 -0.48738 -0.23042 0.064788 -0.70183 0.82654 0.06128 0.18531 -0.30162 -0.022151 0.34302 0.80331 0.17135 0.15462 -0.50759 0.39572 0.054291 -0.53081 0.48252 0.086205 0.59585 -0.22377 -0.3955 -0.73036 -0.10279 -0.39166 1.229 1.2129 -1.0365 -3.4971 0.10923 -1.0084 1.9998 0.7964 0.3881 0.43746 0.085194 0.38549 0.61993 -1.032 0.70119 -0.2246 0.079435 0.09126 -0.21196 -0.55429 -0.053352 -0.80201 0.46798 -0.05005 -0.57422 -0.084822 -1.7227 -0.94286 0.98667 0.31211 -0.37735 0.068674 -0.77838 -0.28486 0.81047 0.46596 -0.11865 -0.93411 0.33722 0.037906 -0.18273 -0.019941 0.20494 -0.47718 -0.49253 -0.56518 0.72558 -0.15913\n",
      "\n",
      "be -0.46953 0.38432 0.54833 -0.63401 0.010133 0.11364 0.10612 0.58529 0.032302 -0.12274 0.030265 0.52662 1.0398 -0.082143 0.19118 -0.83784 0.50763 0.44488 -0.72604 0.036893 0.24211 -0.28878 0.33657 0.13656 0.14579 -0.13221 0.098428 -0.45276 -0.13029 0.015762 -0.010161 0.4967 -0.28461 0.29655 0.92979 0.42447 -0.082773 0.30438 -0.39219 -0.30585 -0.43201 -0.27333 0.24388 -0.58081 0.22679 0.027226 0.53473 -0.37527 -0.16119 -1.1235 0.12768 -0.69898 0.41341 1.2291 -0.41248 -2.5173 -0.15354 -0.043107 1.9111 0.80754 -0.14759 0.9609 -0.84267 0.084422 1.2616 -0.10938 0.54846 0.75255 -0.071289 -0.73987 0.094808 -0.97589 0.0078721 -0.23928 0.2882 -0.41516 0.034366 0.1197 -1.2142 -0.11306 0.52847 -0.42273 -0.93378 -0.046645 -2.122 -0.341 0.64229 -0.10097 -0.22875 -1.0776 -0.68044 -0.26372 -0.18331 -0.051632 -0.30836 0.066537 0.20422 -0.68914 0.4511 0.25125\n",
      "\n",
      "has 0.093736 0.56152 0.48364 -0.45987 0.56067 -0.1694 0.018687 0.45529 0.065615 0.25181 -0.14251 0.10532 0.77865 0.1428 -0.08114 -0.069555 0.32433 0.019611 -0.15608 0.22235 0.35559 0.14713 0.19156 0.2803 0.27691 -0.2067 -0.11378 -0.48318 -0.64248 -0.35523 0.21939 1.2533 -0.21164 0.91811 0.31986 0.48367 0.15322 0.56109 -0.60692 -0.028075 -0.92199 -0.25583 0.66362 -0.49082 0.34757 -0.048103 0.57283 -0.62332 0.87508 -0.50079 -0.12316 -0.69096 0.10129 1.516 -0.174 -2.8902 -0.24541 -0.17934 1.1001 1.4198 0.49132 0.30282 0.077149 -0.097834 0.90586 -0.1615 0.55681 0.32817 0.49335 0.044815 0.57458 -0.32663 -0.29745 0.001807 0.24382 -0.51915 -0.14392 0.27921 -1.5964 0.37152 0.81129 -0.13488 -0.36534 -0.022346 -1.5091 -0.38727 0.30063 -0.37562 -0.18582 -0.39748 -0.10719 -0.12265 -0.66462 0.12112 -0.37281 0.60048 -0.42683 -0.81305 0.62397 0.73176\n",
      "\n",
      "are -0.51533 0.83186 0.22457 -0.73865 0.18718 0.26021 -0.42564 0.67121 -0.31084 -0.61275 0.089526 -0.24011 1.1878 0.67609 -0.022885 -0.92533 0.071174 0.38837 -0.42924 0.37144 0.32671 0.43141 0.87495 0.34009 -0.23189 -0.41144 0.49061 -0.32906 -0.49109 -0.18988 0.33408 -0.21245 -0.38386 -0.080547 1.1161 0.23617 0.31333 0.49286 0.1 -0.15131 -0.14176 -0.2802 -0.2388 -0.35486 0.18282 -0.19134 0.60544 0.074573 -0.20731 -0.60965 0.19908 -0.57024 -0.17427 1.4419 -0.25019 -1.8648 0.41671 -0.24607 1.501 0.87415 -0.67135 1.2762 -0.2721 0.17583 1.2242 0.28242 0.62375 0.63951 0.36914 -0.84677 -0.3227 -0.67152 -0.19635 -0.40789 -0.20966 -0.19623 0.041885 0.53967 -1.1105 -0.39515 0.6659 -0.233 -1.082 0.046465 -2.0993 -0.28493 0.080025 -0.12963 -0.30011 -0.46764 -0.81831 -0.048509 -0.32233 -0.32013 -1.1207 -0.056788 -0.73004 -1.2024 1.1304 0.3479\n",
      "\n",
      "have 0.15711 0.65606 0.0021149 -0.65144 -0.28427 -0.20369 -0.077596 0.40798 -0.03447 -0.1639 -0.21597 0.34178 1.196 0.33639 -0.21076 -0.56015 0.1507 0.34912 -0.97128 0.18152 0.74408 0.20029 0.66986 0.16085 -0.0013507 -0.55392 0.19411 -0.48043 -0.29777 -0.50765 0.80164 0.50424 -0.40524 0.53991 0.65686 0.2114 0.18575 0.80697 -0.20066 0.095714 -0.58899 -0.35907 0.27162 -0.51794 0.2347 -0.045999 0.56501 -0.40747 0.63377 -0.92266 -0.023418 -0.2504 -0.19576 1.3863 0.087314 -2.2309 0.15084 -0.18661 1.292 1.3259 -0.3018 1.2554 -0.41594 0.045082 1.2569 0.19148 0.53144 0.54904 0.16331 -0.66509 0.11798 -0.52498 -0.084623 -0.55866 -0.44294 -0.19599 -0.17698 0.3181 -1.4736 0.26293 0.96367 -0.25463 -0.70786 -0.11713 -2.3508 -0.47386 0.56258 -0.079965 -0.69856 -0.48524 -0.33081 -0.19205 -0.49695 -0.32643 -0.97207 0.21092 -0.58082 -0.60615 0.71005 0.41469\n",
      "\n",
      "but -0.057078 0.39874 0.68861 -0.68151 -0.45583 0.2008 0.17974 0.053648 0.43762 -0.026725 0.13383 -0.0078137 0.42207 -0.31801 0.18065 -0.35387 -0.30929 0.04066 -0.48854 0.3791 0.47955 -0.041942 0.40894 0.12419 0.40096 0.19545 -0.37819 -0.77684 -0.20677 -0.4313 -0.10095 0.39866 -0.29612 -0.083111 -0.019026 0.53927 0.0011912 0.30235 -0.36048 -0.48434 -0.47751 -0.33922 0.34788 -0.17484 -0.22613 -0.3291 0.81259 -0.58452 0.14509 -0.71497 0.17107 -0.24833 0.22104 1.5517 0.040869 -2.9103 -0.20812 -0.17625 1.6597 0.86277 -0.32527 0.65641 -0.13142 0.32312 0.90836 -0.29105 0.84975 0.53217 0.15041 -0.27983 -0.029015 -0.63378 0.12237 -0.79144 0.16108 0.017446 -0.35095 -0.16949 -1.0001 -0.036832 0.8114 -0.2271 -0.62133 0.16484 -1.6804 -0.39861 0.063602 0.10644 -0.57955 -0.45573 -0.037633 -0.63445 -0.30094 0.39828 -0.82883 0.33827 -0.23613 -0.19357 -0.030606 0.2397\n",
      "\n",
      "were 0.26874 0.17994 -0.29083 -0.72304 -0.05883 0.37211 0.39979 0.47827 -0.41014 -0.089043 0.68457 0.29088 0.9661 0.43289 0.44254 -1.1529 0.15147 -0.02307 -1.2467 -0.037292 0.94212 0.37771 1.2369 0.12327 -0.33831 -0.98651 0.44322 0.083459 -0.11953 -0.057447 0.6761 -0.59646 -0.3251 0.53957 0.66822 0.082015 0.42181 0.62666 0.038678 0.089652 -0.53395 -0.40426 -0.060807 0.14335 0.53841 -0.12983 0.43699 -0.077531 0.20441 -0.9894 -0.080389 -0.13893 0.046432 1.6775 -0.34565 -1.7503 -0.25442 -0.28207 1.2024 1.0927 -0.55076 1.3852 -0.74759 0.96273 0.69044 -0.41462 0.55676 0.39588 0.053647 -0.35503 -0.3909 -0.48323 -0.048448 -0.37728 -0.51204 0.50097 0.16188 0.91052 -1.6308 -0.31484 0.51824 -0.078027 -0.33929 0.42289 -2.3287 -0.56737 0.17769 -0.34047 -0.75328 -0.37805 -0.45665 -0.60386 -0.41089 0.078006 -1.3394 0.049803 -0.91783 -0.47655 0.79018 -0.28336\n",
      "\n",
      "not -0.19104 0.17601 0.3692 -0.50323 -0.47561 0.15798 -0.11679 0.21052 0.32652 0.12194 0.090944 0.26089 0.76294 0.00069673 -0.050001 -0.44853 0.36239 0.56345 -0.68702 0.33237 0.31285 -0.14207 0.35327 -0.16426 -0.10693 0.077786 -0.17704 -0.92897 0.1468 -0.13585 0.25682 0.66019 -0.35569 0.21838 0.38173 0.54337 0.10197 0.3523 -0.2551 -0.15155 -0.67434 0.16903 0.16413 -0.53843 -0.17457 -0.28539 0.74044 -0.67533 -0.23382 -1.3599 0.30225 -0.14968 0.27043 1.1979 -0.29556 -2.5395 0.0010303 -0.26272 1.8303 0.80008 -0.35691 0.56578 -0.5504 0.070845 1.4275 0.09016 0.7842 0.7849 -0.33538 -0.65751 -0.20112 -1.0297 0.069195 -0.61272 0.11373 -0.19547 -0.21256 0.049763 -1.1619 -0.064512 0.53146 -0.47384 -0.68709 0.13024 -2.0899 -0.41346 0.30364 -0.00057448 -0.18833 -0.54779 -0.32058 -0.36704 -0.1474 -0.19044 -0.47712 0.048228 -0.26215 -0.5968 0.080843 0.27866\n",
      "\n",
      "this -0.57058 0.44183 0.70102 -0.41713 -0.34058 0.02339 -0.071537 0.48177 -0.013121 0.16834 -0.13389 0.040626 0.15827 -0.44342 -0.019403 -0.009661 -0.046284 0.093228 -0.27331 0.2285 0.33089 -0.36474 0.078741 0.3585 0.44757 -0.2299 0.18077 -0.6265 0.053852 -0.29154 -0.4256 0.62903 0.14393 -0.046004 -0.21007 0.48879 -0.057698 0.37431 -0.030075 -0.34494 -0.29702 0.15095 0.28248 -0.16578 0.076131 -0.093016 0.79365 -0.60489 -0.18874 -1.0173 0.31962 -0.16344 0.54177 1.1725 -0.47875 -3.3842 -0.081301 -0.3528 1.8372 0.44516 -0.52666 0.99786 -0.32178 0.033462 1.1783 -0.072905 0.39737 0.26166 0.33111 -0.35629 -0.16558 -0.44382 -0.14183 -0.37976 0.28994 -0.029114 -0.35169 -0.27694 -1.344 0.19555 0.16887 0.040237 -0.80212 0.23366 -1.3837 -0.023132 0.085395 -0.74051 -0.073934 -0.58838 -0.085735 -0.10525 -0.51571 0.15038 -0.16694 -0.16372 -0.22702 -0.66102 0.47197 0.37253\n",
      "\n",
      "who 0.26164 0.4472 -0.096845 -0.74067 0.20805 0.33434 -0.26796 0.022865 -0.37251 0.22637 -0.22139 0.20357 0.34547 0.17839 0.15189 -0.09791 0.95879 0.34033 -1.0375 0.33589 0.29997 0.33378 0.56341 -0.04013 0.27697 -0.56576 -0.37009 -0.74752 0.62616 -0.54981 0.26671 1.3877 -0.17649 0.40599 0.48077 0.18777 -0.25752 1.0871 0.55904 0.12204 -1.4921 0.17677 0.90724 -0.7636 0.1091 -0.024877 -0.14734 -0.55559 0.74541 -0.59346 -0.19779 -0.42991 0.30361 1.2408 -0.19161 -2.0891 -0.2374 -0.33597 0.60638 1.4537 0.46323 0.53161 0.067068 -0.043899 0.7305 -0.20189 1.0433 0.55102 -0.25149 0.45955 -0.043735 -0.70793 -0.70816 -0.38365 -0.28454 -0.24853 -0.45679 -0.21562 -0.87828 -0.55946 1.2574 0.37382 -0.84276 0.015869 -1.8082 -0.87081 -0.37524 0.033488 -0.46289 -0.9618 0.28619 -0.58053 0.46974 -0.089393 -1.1858 0.3699 -0.58993 -0.4503 0.49525 -0.20298\n",
      "\n",
      "they -0.07954 0.30171 0.079516 -0.74662 -0.67879 0.35029 -0.19754 0.4929 0.14162 -0.23789 0.10939 0.23465 0.77763 0.12745 0.10873 -0.68024 0.25696 0.53981 -0.92294 0.088309 0.5524 0.073341 0.63424 -0.094834 -0.068988 -0.11287 -0.1932 -0.61233 0.16718 -0.43107 0.29355 0.42588 -0.22194 0.14787 0.53693 0.12846 0.12732 0.50899 0.2408 -0.3513 -0.52486 -0.37477 -0.084382 -0.39593 -0.14876 -0.030951 0.48431 -0.24678 0.12347 -1.1037 -0.09493 -0.038439 0.1075 1.6517 -0.10342 -2.4332 0.040486 -0.39164 1.5943 0.95891 -0.52496 1.1476 -0.57502 0.044767 1.097 -0.15884 0.59743 0.66712 -0.095168 -0.56173 -0.067523 -0.79894 0.066405 -0.82591 -0.58701 0.18065 -0.28443 -0.091645 -1.0481 -0.051988 0.75936 -0.039712 -0.9376 0.056433 -2.1626 -0.64355 0.42302 -0.10572 -0.72611 -0.1294 -0.38103 -0.7459 -0.0096764 -0.16205 -1.0562 -0.11999 -0.60909 -0.16731 0.65344 0.366\n",
      "\n",
      "\n",
      "\n",
      "\n",
      "\n"
     ]
    }
   ],
   "source": [
    "with open('ressources/glove.6B.100d.txt', encoding='utf8') as myfile:\n",
    "    [print(next(myfile)) for x in range(40)]\n",
    "    print(\"\\n\\n\\n\")"
   ]
  },
  {
   "cell_type": "code",
   "execution_count": 17,
   "metadata": {},
   "outputs": [],
   "source": [
    "import numpy as np\n",
    "\n",
    "toto = {}\n",
    "word=\"test\"\n",
    "coefs = np.asarray([0.153, 0.185, 0,213], dtype='float32')\n",
    "toto[word] = coefs"
   ]
  },
  {
   "cell_type": "code",
   "execution_count": 18,
   "metadata": {},
   "outputs": [
    {
     "data": {
      "text/plain": [
       "array([1.53e-01, 1.85e-01, 0.00e+00, 2.13e+02], dtype=float32)"
      ]
     },
     "execution_count": 18,
     "metadata": {},
     "output_type": "execute_result"
    }
   ],
   "source": [
    "toto[list(toto)[0]]"
   ]
  },
  {
   "cell_type": "code",
   "execution_count": 23,
   "metadata": {},
   "outputs": [
    {
     "data": {
      "text/plain": [
       "array([0., 0., 0., 0., 0., 0., 0., 0., 0., 0., 0., 0., 0., 0., 0., 0., 0.,\n",
       "       0., 0., 0., 0., 0., 0., 0., 0., 0., 0., 0., 0., 0., 0., 0., 0., 0.,\n",
       "       0., 0., 0., 0., 0., 0., 0., 0., 0., 0., 0., 0., 0., 0., 0., 0., 0.,\n",
       "       0., 0., 0., 0., 0., 0., 0., 0., 0., 0., 0., 0., 0., 0., 0., 0., 0.,\n",
       "       0., 0., 0., 0., 0., 0., 0., 0., 0., 0., 0., 0., 0., 0., 0., 0., 0.,\n",
       "       0., 0., 0., 0., 0., 0., 0., 0., 0., 0., 0., 0., 0., 0., 0.])"
      ]
     },
     "execution_count": 23,
     "metadata": {},
     "output_type": "execute_result"
    }
   ],
   "source": [
    "toto.get(\"toto\", np.zeros((100,)))"
   ]
  },
  {
   "cell_type": "code",
   "execution_count": null,
   "metadata": {},
   "outputs": [],
   "source": []
  }
 ],
 "metadata": {
  "kernelspec": {
   "display_name": "Python 3",
   "language": "python",
   "name": "python3"
  },
  "language_info": {
   "codemirror_mode": {
    "name": "ipython",
    "version": 3
   },
   "file_extension": ".py",
   "mimetype": "text/x-python",
   "name": "python",
   "nbconvert_exporter": "python",
   "pygments_lexer": "ipython3",
   "version": "3.6.10"
  }
 },
 "nbformat": 4,
 "nbformat_minor": 2
}
